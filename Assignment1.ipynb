{
 "cells": [
  {
   "cell_type": "code",
   "execution_count": 4,
   "id": "207741db",
   "metadata": {},
   "outputs": [
    {
     "name": "stdout",
     "output_type": "stream",
     "text": [
      "Ages sorted:  [19, 19, 20, 22, 24, 24, 24, 25, 25, 26]\n",
      "Min value of ages:  19\n",
      "Max value of ages:  26\n",
      "Ages sorted:  [19, 19, 19, 20, 22, 24, 24, 24, 25, 25, 26, 26]\n",
      "Median:  24.0\n",
      "Average:  22.75\n",
      "Range:  7\n"
     ]
    }
   ],
   "source": [
    "#Q1\n",
    "#The following is a list of 10 students ages:\n",
    "# ages = [19, 22, 19, 24, 20, 25, 26, 24, 25, 24]\n",
    "# • Sort the list and find the min and max age\n",
    "# • Add the min age and the max age again to the list\n",
    "# • Find the median age (one middle item or two middle items divided by two)\n",
    "# • Find the average age (sum of all items divided by their number)\n",
    "# • Find the range of the ages (max minus min)\n",
    "\n",
    "import statistics\n",
    "\n",
    "ages = [19, 22, 19, 24, 20, 25, 26, 24, 25, 24]\n",
    "#sort()-for sorting\n",
    "ages.sort()\n",
    "print(\"Ages sorted: \", ages)\n",
    "# min() - for min values in list\n",
    "print(\"Min value of ages: \", min(ages))\n",
    "# max() - for max values in list\n",
    "print(\"Max value of ages: \", max(ages))\n",
    "# append(values)- for inserting values\n",
    "ages.append(min(ages))\n",
    "ages.append(max(ages))\n",
    "ages.sort()\n",
    "print(\"Ages sorted: \", ages)\n",
    "print(\"Median: \", statistics.median(ages))\n",
    "print(\"Average: \", statistics.mean(ages))\n",
    "print(\"Range: \", max(ages)-min(ages))"
   ]
  },
  {
   "cell_type": "code",
   "execution_count": 8,
   "id": "56df8c42",
   "metadata": {},
   "outputs": [
    {
     "name": "stdout",
     "output_type": "stream",
     "text": [
      "dog dictionary:  {'name': 'One', 'color': 'Black', 'breed': 'Husky', 'legs': 4, 'age': 10}\n",
      "\n",
      "Student_dict  {'first_name': 'Tasneem', 'last_name': 'Shaik', 'gender': 'Male', 'age': '23', 'marital status': 'Single', 'skills': ['Python'], 'country': 'India', 'city': 'Vijayawada', 'address': 'Sanathnagar 3rd line'}\n",
      "\n",
      "Length of Student_Dictionary:  9\n",
      "\n",
      "Values of skills:  ['Python']\n",
      "\n",
      "Data Type of Skills:  <class 'list'>\n",
      "\n",
      "Updated values:  ['Python', 'ReactJS', 'JavaScript']\n",
      "dict_keys(['first_name', 'last_name', 'gender', 'age', 'marital status', 'skills', 'country', 'city', 'address'])\n",
      "dict_values(['Tasneem', 'Shaik', 'Male', '23', 'Single', ['Python', 'ReactJS', 'JavaScript'], 'India', 'Vijayawada', 'Sanathnagar 3rd line'])\n"
     ]
    }
   ],
   "source": [
    "#Q2\n",
    "dog= dict()\n",
    "#adding key value pairs\n",
    "dog.update({\"name\":\"One\", \"color\":\"Black\", \"breed\":\"Husky\", \"legs\":4, \"age\":10})\n",
    "print(\"dog dictionary: \",dog)\n",
    "\n",
    "student_dict = dict()\n",
    "\n",
    "#updating sample values\n",
    "student_dict.update({\"first_name\": \"Tasneem\", \"last_name\": \"Shaik\", \"gender\": \"Male\", \"age\": \"23\",\n",
    "                     \"marital status\": \"Single\", \"skills\": [\"Python\"], \"country\": \"India\", \"city\": \"Vijayawada\",\n",
    "                     \"address\": \"Sanathnagar 3rd line\"})\n",
    "\n",
    "\n",
    "print(\"\\nStudent_dict \", student_dict)\n",
    "#using len() for getting length\n",
    "print(\"\\nLength of Student_Dictionary: \", len(student_dict))\n",
    "\n",
    "#Get the value of skills and check the data type, it should be a list\n",
    "print(\"\\nValues of skills: \",student_dict[\"skills\"])\n",
    "print(\"\\nData Type of Skills: \", type(student_dict[\"skills\"]))\n",
    "\n",
    "#Modify the skills values by adding one or two skills\n",
    "student_dict[\"skills\"].extend([\"ReactJS\", \"JavaScript\"])\n",
    "print(\"\\nUpdated values: \", student_dict[\"skills\"])\n",
    "\n",
    "#Get the dictionary keys as a list\n",
    "#Get the dictionary values as a list\n",
    "print(student_dict.keys())\n",
    "print(student_dict.values())"
   ]
  },
  {
   "cell_type": "code",
   "execution_count": 9,
   "id": "3b64df08",
   "metadata": {},
   "outputs": [
    {
     "name": "stdout",
     "output_type": "stream",
     "text": [
      "Sisters:  ('Karishma', 'Zoya')\n",
      "Brothers:  ('Chand', 'Saleem')\n",
      "Siblings:  ('Karishma', 'Zoya', 'Chand', 'Saleem')\n",
      "No of Siblings: 4\n",
      "family_members:  ('Karishma', 'Zoya', 'Chand', 'Saleem', 'Apsar', 'Tajuddin')\n"
     ]
    }
   ],
   "source": [
    "#Q3\n",
    "sisters = (\"Karishma\",\"Zoya\")\n",
    "print(\"Sisters: \", sisters,)\n",
    "brothers = (\"Chand\",\"Saleem\")\n",
    "print(\"Brothers: \", brothers)\n",
    "siblings = sisters+brothers\n",
    "print(\"Siblings: \",siblings)\n",
    "print(\"No of Siblings:\", len(siblings))\n",
    "family_members = siblings+(\"Apsar\",\"Tajuddin\")\n",
    "print(\"family_members: \", family_members)\n"
   ]
  },
  {
   "cell_type": "code",
   "execution_count": 14,
   "id": "2cc7f2ee",
   "metadata": {},
   "outputs": [
    {
     "name": "stdout",
     "output_type": "stream",
     "text": [
      "Set length: 7\n",
      "it_companies:  {'Apple', 'Amazon', 'Facebook', 'IBM', 'Microsoft', 'Twitter', 'Oracle', 'Google'}\n",
      "it_companies after update:  {'Deliotte', 'IBM', 'Amazon', 'Tcs', 'Facebook', 'Twitter', 'Apple', 'Microsoft', 'Oracle', 'Google'}\n",
      "{'IBM', 'Amazon', 'Tcs', 'Facebook', 'Twitter', 'Apple', 'Microsoft', 'Oracle', 'Google'}\n",
      "\n",
      " The discard() method removes the specified item from the set. This method is different from the remove() method, because the remove() method will raise an error if the specified item does not exist, and the discard() method will not.\n",
      "\n",
      " A union B:  {19, 20, 22, 24, 25, 26, 27, 28}\n",
      "A  Intersection B:  {19, 20, 22, 24, 25, 26}\n",
      "A is Subset of B?  True\n",
      "A and B are disjoint sets?  False\n",
      "AUB:  {19, 20, 22, 24, 25, 26, 27, 28}\n",
      "BUA:  {19, 20, 22, 24, 25, 26, 27, 28}\n",
      "Symmetric Difference of A with B:  {27, 28}\n",
      "After clear Set A values:  set() \tSet B values:  set()\n",
      "set of ageslist:  {19, 22, 24, 25, 26}\n",
      "Length of age list:  8 \n",
      "Length of age set 5\n",
      "#list have duplicate values and set doesnt allow deuplicates\n"
     ]
    }
   ],
   "source": [
    "#Q4\n",
    "\n",
    "\n",
    "it_companies = {'Facebook', 'Google', 'Microsoft', 'Apple', 'IBM', 'Oracle', 'Amazon'}\n",
    "# Find the length of the set it_companies\n",
    "print(\"Set length:\",len(it_companies))\n",
    "# • Add 'Twitter' to it_companies\n",
    "it_companies.add('Twitter')\n",
    "print(\"it_companies: \", it_companies)\n",
    "# • Insert multiple IT companies at once to the set it_companies\n",
    "it_companies.update(['Tcs','Deliotte','Google'])\n",
    "print(\"it_companies after update: \",it_companies)\n",
    "# • Remove one of the companies from the set it_companies\n",
    "it_companies.remove(\"Deliotte\")\n",
    "print(it_companies)\n",
    "\n",
    "# • What is the difference between remove and discard\n",
    "print(\"\\n The discard() method removes the specified item from the set. This method is different from the remove() method, because the remove() method will raise an error if the specified item does not exist, and the discard() method will not.\")\n",
    "A = {19, 22, 24, 20, 25, 26} \n",
    "B = {19, 22, 20, 25, 26, 24, 28, 27} \n",
    "# • Join A and B\n",
    "print(\"\\n A union B: \",A.union(B))\n",
    "# • Find A intersection B\n",
    "print(\"A  Intersection B: \",A.intersection(B))\n",
    "# • Is A subset of B\n",
    "print(\"A is Subset of B? \",A.issubset(B))\n",
    "# • Are A and B disjoint sets\n",
    "print(\"A and B are disjoint sets? \",A.isdisjoint(B))\n",
    "\n",
    "# • Join A with B and B with A\n",
    "print(\"AUB: \",(A.union(B)))\n",
    "print(\"BUA: \",(B.union(A)))\n",
    "      \n",
    "# • What is the symmetric difference between A and B\n",
    "print(\"Symmetric Difference of A with B: \",A.symmetric_difference(B))\n",
    "      \n",
    "# • Delete the sets completely\n",
    "A.clear()\n",
    "B.clear()\n",
    "print(\"After clear Set A values: \", A,\"\\tSet B values: \",B)\n",
    "      \n",
    "# • Convert the ages to a set and compare the length of the list and the set.\n",
    "age = [22, 19, 24, 25, 26, 24, 25, 24] \n",
    "age_set = set(age)\n",
    "print(\"set of ageslist: \", age_set)\n",
    "print(\"Length of age list: \", len(age), \"\\nLength of age set\",len(age_set))\n",
    "print(\"#list have duplicate values and set doesnt allow deuplicates\")\n",
    "\n"
   ]
  },
  {
   "cell_type": "code",
   "execution_count": 15,
   "id": "be32e6eb",
   "metadata": {},
   "outputs": [
    {
     "name": "stdout",
     "output_type": "stream",
     "text": [
      "Area : 2826.0\n",
      "Circumference of a circle =  188.4\n",
      "Enter radius of circle: 10\n",
      "Area of a circle =  314.0\n"
     ]
    }
   ],
   "source": [
    "#Q5\n",
    "\n",
    "radius = 30\n",
    "_area_of_circle_ = 3.14 * radius **2\n",
    "print(\"Area :\",_area_of_circle_)\n",
    "_circum_of_circle_ = 2 * 3.14 * radius\n",
    "print(\"Circumference of a circle = \",_circum_of_circle_)\n",
    "\n",
    "_radius_of_circle_ = float(input(\"Enter radius of circle: \"))\n",
    "_area_of_circle_ = 3.14 * _radius_of_circle_ **2\n",
    "print(\"Area of a circle = \",_area_of_circle_)\n",
    "\n"
   ]
  },
  {
   "cell_type": "code",
   "execution_count": 16,
   "id": "bd218536",
   "metadata": {},
   "outputs": [
    {
     "name": "stdout",
     "output_type": "stream",
     "text": [
      "I am a teacher and I love to inspire and teach people\n",
      "Number of Unique words:  10 {'a', 'am', 'inspire', 'teach', 'teacher', 'I', 'and', 'to', 'people', 'love'}\n"
     ]
    }
   ],
   "source": [
    "\n",
    "#Q6\n",
    "print(\"I am a teacher and I love to inspire and teach people\")\n",
    "words = (\"I am a teacher and I love to inspire and teach people\".split(\" \"))\n",
    "set1=set(words)\n",
    "print(\"Number of Unique words: \",len(set1), set1)\n",
    "\n"
   ]
  },
  {
   "cell_type": "code",
   "execution_count": 20,
   "id": "ed62b495",
   "metadata": {},
   "outputs": [
    {
     "name": "stdout",
     "output_type": "stream",
     "text": [
      "Name \t Age \tCountry City \n",
      "Asabench 250 \tFinland Helsinki\n"
     ]
    }
   ],
   "source": [
    "#Q7\n",
    "sample = \"Name \\t Age \\tCountry City\"\n",
    "sample2 =\"\\nAsabench 250 \\tFinland Helsinki\"\n",
    "print(sample,sample2)\n"
   ]
  },
  {
   "cell_type": "code",
   "execution_count": 21,
   "id": "27e8c067",
   "metadata": {},
   "outputs": [
    {
     "name": "stdout",
     "output_type": "stream",
     "text": [
      "The area of a circle with radius 10 is 314 meters square.\n"
     ]
    }
   ],
   "source": [
    "#Q8\n",
    "radius = 10 \n",
    "area = 3.14 * radius ** 2 \n",
    "#“The area of a circle with radius 10 is 314 meters square.”\n",
    "print(\"The area of a circle with radius\",radius,\"is %.0f\" %area, \"meters square.\")\n"
   ]
  },
  {
   "cell_type": "code",
   "execution_count": 26,
   "id": "7fe3a305",
   "metadata": {},
   "outputs": [
    {
     "name": "stdout",
     "output_type": "stream",
     "text": [
      "Enter number of students: 1\n",
      "Enter weight of 1 student in lbs: 1\n",
      "weight of students in lbs:  [1]\n",
      "weight of students in kgs:  [0.45]\n"
     ]
    }
   ],
   "source": [
    "#Q9\n",
    "students = int(input(\"Enter number of students: \"))\n",
    "wt_lb = list() \n",
    "wt_kg = list() \n",
    "\n",
    "for each in range(students):\n",
    "    lb = int(input(\"Enter weight of {} student in lbs: \".format(each+1)))\n",
    "    wt_lb.append(lb)\n",
    "    kg = float(\"%.2f\" %(lb*0.453592))\n",
    "    wt_kg.append(kg)\n",
    "    \n",
    "print(\"weight of students in lbs: \",wt_lb)\n",
    "print(\"weight of students in kgs: \",wt_kg)\n",
    "\n"
   ]
  },
  {
   "cell_type": "code",
   "execution_count": 5,
   "id": "80c4695b",
   "metadata": {},
   "outputs": [
    {
     "name": "stdout",
     "output_type": "stream",
     "text": [
      "Dataset: \n",
      " [[ 1  0]\n",
      " [ 2  0]\n",
      " [ 3  0]\n",
      " [ 6  0]\n",
      " [ 6  0]\n",
      " [ 7  0]\n",
      " [10  0]\n",
      " [11  0]] \n",
      " Size:  8\n",
      "\n",
      "Class labels Y: [0 0 1 1 1 0 0 0]\n",
      "\n",
      "Training Data X: \n",
      " [[6 0]\n",
      " [1 0]\n",
      " [7 0]\n",
      " [6 0]]\n",
      "\n",
      "Training Data label Y: [1 0 0 1]\n",
      "\n",
      "Predicted values: [1 1 1 1]\n",
      "\n",
      "Confusion Matrix\n",
      " [[0 3]\n",
      " [0 1]]\n",
      "\n",
      "Accuracy :  0.25\n",
      "Sensitivity :  1.0\n",
      "Specificity :  0.0\n"
     ]
    }
   ],
   "source": [
    "#Q10\n",
    "import numpy as nm   \n",
    "import pandas as pd \n",
    "from sklearn.model_selection import train_test_split  \n",
    "from sklearn.preprocessing import StandardScaler \n",
    "from sklearn.neighbors import KNeighborsClassifier \n",
    "from sklearn.metrics import confusion_matrix \n",
    "\n",
    "X= nm.array([[1,0],[2,0],[3,0],[6,0],[6,0],[7,0],[10,0],[11,0]])\n",
    "print(\"Dataset: \\n\",X,\"\\n Size: \",len(X))\n",
    "y = nm.array([0,0,1,1,1,0,0,0])\n",
    "print(\"\\nClass labels Y:\",y)\n",
    "x_train, x_test, y_train, y_test= train_test_split(X, y, test_size= 0.50,random_state=0 ) \n",
    "print(\"\\nTraining Data X: \\n\", x_train)\n",
    "print(\"\\nTraining Data label Y:\", y_train)\n",
    "\n",
    "stand_scalar= StandardScaler()    \n",
    "x_train= stand_scalar.fit_transform(x_train)    \n",
    "x_test= stand_scalar.transform(x_test) \n",
    "\n",
    "#Initialising KNN Classifier with value 3\n",
    "classifier= KNeighborsClassifier(n_neighbors=3)  \n",
    "#Fitting the data to classifier\n",
    "classifier.fit(x_train, y_train)\n",
    "#Predict Labels for x-test data\n",
    "y_pred= classifier.predict(x_test) \n",
    "print('\\nPredicted values:',y_pred)\n",
    "     \n",
    "#Confusion matrix with tested data\n",
    "confMat = confusion_matrix(y_test, y_pred)\n",
    "print(\"\\nConfusion Matrix\\n\",confMat)\n",
    "\n",
    "total_value = sum(sum(confMat))\n",
    "#Accuracy TN+TP / P+N\n",
    "accuracy=(confMat[0,0]+confMat[1,1])/total_value\n",
    "print ('\\nAccuracy : ', accuracy)\n",
    "\n",
    "#Sensitivity TP/(TP+FN)\n",
    "sensitivity = confMat[1,1]/(confMat[1,0]+confMat[1,1])\n",
    "print('Sensitivity : ', sensitivity )\n",
    "\n",
    "#Specificity TN/(TN+FP)\n",
    "specificity = confMat[0,0]/(confMat[0,0]+confMat[0,1])\n",
    "print('Specificity : ', specificity)"
   ]
  },
  {
   "cell_type": "code",
   "execution_count": null,
   "id": "61820868",
   "metadata": {},
   "outputs": [],
   "source": []
  }
 ],
 "metadata": {
  "kernelspec": {
   "display_name": "Python 3 (ipykernel)",
   "language": "python",
   "name": "python3"
  },
  "language_info": {
   "codemirror_mode": {
    "name": "ipython",
    "version": 3
   },
   "file_extension": ".py",
   "mimetype": "text/x-python",
   "name": "python",
   "nbconvert_exporter": "python",
   "pygments_lexer": "ipython3",
   "version": "3.10.6"
  }
 },
 "nbformat": 4,
 "nbformat_minor": 5
}
