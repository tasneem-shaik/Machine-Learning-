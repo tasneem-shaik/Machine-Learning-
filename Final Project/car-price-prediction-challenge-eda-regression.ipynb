{
 "cells": [
  {
   "cell_type": "markdown",
   "metadata": {},
   "source": [
    "# Car Price Prediction"
   ]
  },
  {
   "cell_type": "markdown",
   "metadata": {},
   "source": [
    "# 1. Importing the libraries"
   ]
  },
  {
   "cell_type": "markdown",
   "metadata": {},
   "source": [
    "A Python library is a collection of related modules. It contains bundles of code that can be used repeatedly in different programs. It makes Python Programming simpler and convenient for the programmer. As we don't need to write the same code again and again for different programs.\n",
    "\n",
    "In this notebook, we will be using the following libraries."
   ]
  },
  {
   "cell_type": "code",
   "execution_count": null,
   "metadata": {
    "execution": {
     "iopub.execute_input": "2022-08-08T18:12:57.913604Z",
     "iopub.status.busy": "2022-08-08T18:12:57.913024Z",
     "iopub.status.idle": "2022-08-08T18:12:57.92703Z",
     "shell.execute_reply": "2022-08-08T18:12:57.924942Z",
     "shell.execute_reply.started": "2022-08-08T18:12:57.913542Z"
    }
   },
   "outputs": [],
   "source": [
    "### Data Wrangling \n",
    "\n",
    "import numpy as np\n",
    "import pandas as pd\n",
    "import missingno\n",
    "from collections import Counter\n",
    "from collections import OrderedDict\n",
    "\n",
    "### Data Visualization\n",
    "\n",
    "import matplotlib.pyplot as plt\n",
    "import seaborn as sns\n",
    "\n",
    "### Data Preprocessing\n",
    "\n",
    "import statsmodels.api as sm\n",
    "from scipy import stats\n",
    "\n",
    "### Modelling \n",
    "\n",
    "from sklearn.model_selection import train_test_split\n",
    "from math import sqrt\n",
    "from sklearn.metrics import mean_squared_error, r2_score\n",
    "from sklearn.model_selection import GridSearchCV\n",
    "from sklearn.linear_model import LinearRegression\n",
    "from sklearn.linear_model import Lasso\n",
    "from sklearn.linear_model import Ridge\n",
    "from sklearn.svm import SVR\n",
    "from sklearn.tree import DecisionTreeRegressor\n",
    "from sklearn.ensemble import RandomForestRegressor\n",
    "from sklearn.ensemble import StackingRegressor\n",
    "import xgboost as xg\n",
    "\n",
    "### Tabulating the results\n",
    "\n",
    "from tabulate import tabulate\n",
    "\n",
    "### Remove unnecessary warnings\n",
    "\n",
    "import warnings\n",
    "warnings.filterwarnings('ignore')"
   ]
  },
  {
   "cell_type": "markdown",
   "metadata": {},
   "source": [
    "# 2. Importing the data"
   ]
  },
  {
   "cell_type": "markdown",
   "metadata": {},
   "source": [
    "In this section, I will fetch the dataset that is available in the Kaggle's project description in the Data section.\n",
    "\n",
    "The training set should be used to build your machine learning models. For the training set, we provide the outcome (also known as the “ground truth”) for each Car model. Your model will be based on “features” like Manufacturer, Model, Category, Mileage, Cylinders etc. You can also use feature engineering to create new features.\n",
    "\n",
    "The test set should be used to see how well your model performs on unseen data. For the test set, we do not provide the ground truth. It is your job to predict these outcomes. For each car, our task is to predict the price of the car."
   ]
  },
  {
   "cell_type": "code",
   "execution_count": null,
   "metadata": {
    "execution": {
     "iopub.execute_input": "2022-08-08T18:12:57.92999Z",
     "iopub.status.busy": "2022-08-08T18:12:57.929523Z",
     "iopub.status.idle": "2022-08-08T18:12:58.019779Z",
     "shell.execute_reply": "2022-08-08T18:12:58.018517Z",
     "shell.execute_reply.started": "2022-08-08T18:12:57.929947Z"
    }
   },
   "outputs": [],
   "source": [
    "### Fetching the dataset\n",
    "\n",
    "dataset = pd.read_csv('../input/car-price-prediction-challenge/car_price_prediction.csv')"
   ]
  },
  {
   "cell_type": "code",
   "execution_count": null,
   "metadata": {
    "execution": {
     "iopub.execute_input": "2022-08-08T18:12:58.023006Z",
     "iopub.status.busy": "2022-08-08T18:12:58.022476Z",
     "iopub.status.idle": "2022-08-08T18:12:58.050029Z",
     "shell.execute_reply": "2022-08-08T18:12:58.048727Z",
     "shell.execute_reply.started": "2022-08-08T18:12:58.022956Z"
    }
   },
   "outputs": [],
   "source": [
    "### Looking at the sample data in the dataset\n",
    "\n",
    "dataset.head(10)"
   ]
  },
  {
   "cell_type": "code",
   "execution_count": null,
   "metadata": {
    "execution": {
     "iopub.execute_input": "2022-08-08T18:12:58.05308Z",
     "iopub.status.busy": "2022-08-08T18:12:58.052508Z",
     "iopub.status.idle": "2022-08-08T18:12:58.061642Z",
     "shell.execute_reply": "2022-08-08T18:12:58.060606Z",
     "shell.execute_reply.started": "2022-08-08T18:12:58.053043Z"
    }
   },
   "outputs": [],
   "source": [
    "### Shape of the dataset\n",
    "\n",
    "dataset.shape"
   ]
  },
  {
   "cell_type": "markdown",
   "metadata": {},
   "source": [
    "The training dataset consists of 18 columns and 19237 rows."
   ]
  },
  {
   "cell_type": "markdown",
   "metadata": {},
   "source": [
    "# 3. Exploratory Data Analysis"
   ]
  },
  {
   "cell_type": "markdown",
   "metadata": {},
   "source": [
    "Exploratory Data Analysis refers to the critical process of performing initial investigations on data so as to discover patterns,to spot anomalies,to test hypothesis and to check assumptions with the help of summary statistics and graphical representations.\n",
    "\n",
    "Here, we will perform EDA on the categorical columns of the dataset - Manufacturer, Category, Leather interior, Fuel type, Gear box type, Drive wheels, Doors, Wheel, Color and the numerical columns of the dataset - Price, Levy, Prod. year, Engine volume, Mileage, Cylinders, Airbags."
   ]
  },
  {
   "cell_type": "markdown",
   "metadata": {},
   "source": [
    "# 3.1 Datatypes, Missing Data, and Summary Statistics"
   ]
  },
  {
   "cell_type": "code",
   "execution_count": null,
   "metadata": {
    "execution": {
     "iopub.execute_input": "2022-08-08T18:12:58.063586Z",
     "iopub.status.busy": "2022-08-08T18:12:58.063211Z",
     "iopub.status.idle": "2022-08-08T18:12:58.094199Z",
     "shell.execute_reply": "2022-08-08T18:12:58.093118Z",
     "shell.execute_reply.started": "2022-08-08T18:12:58.063552Z"
    }
   },
   "outputs": [],
   "source": [
    "### Looking at the datatypes of the dataset\n",
    "\n",
    "dataset.info()"
   ]
  },
  {
   "cell_type": "markdown",
   "metadata": {},
   "source": [
    "Here, the columns - Manufacturer, Model, Category, Leather interior, Fuel type, Gear box type, Drive wheels, Doors, Wheel, Color are categorical. Hence, we modify the datatype of these columns to category."
   ]
  },
  {
   "cell_type": "code",
   "execution_count": null,
   "metadata": {
    "execution": {
     "iopub.execute_input": "2022-08-08T18:12:58.096652Z",
     "iopub.status.busy": "2022-08-08T18:12:58.095741Z",
     "iopub.status.idle": "2022-08-08T18:12:58.150205Z",
     "shell.execute_reply": "2022-08-08T18:12:58.148822Z",
     "shell.execute_reply.started": "2022-08-08T18:12:58.096615Z"
    }
   },
   "outputs": [],
   "source": [
    "### Modifying the datatypes of the columns to category\n",
    "\n",
    "dataset.Manufacturer = dataset.Manufacturer.astype('category')\n",
    "dataset.Model = dataset.Model.astype('category')\n",
    "dataset.Category = dataset.Category.astype('category')\n",
    "dataset[\"Leather interior\"] = dataset[\"Leather interior\"].astype('category')\n",
    "dataset[\"Fuel type\"] = dataset[\"Fuel type\"].astype('category')\n",
    "dataset[\"Gear box type\"] = dataset[\"Gear box type\"].astype('category')\n",
    "dataset[\"Drive wheels\"] = dataset[\"Drive wheels\"].astype('category')\n",
    "dataset.Doors = dataset.Doors.astype('category')\n",
    "dataset.Wheel = dataset.Wheel.astype('category')\n",
    "dataset.Color = dataset.Color.astype('category')"
   ]
  },
  {
   "cell_type": "markdown",
   "metadata": {},
   "source": [
    "Looking at the modified datatypes of the columns in the dataset."
   ]
  },
  {
   "cell_type": "code",
   "execution_count": null,
   "metadata": {
    "execution": {
     "iopub.execute_input": "2022-08-08T18:12:58.152562Z",
     "iopub.status.busy": "2022-08-08T18:12:58.151839Z",
     "iopub.status.idle": "2022-08-08T18:12:58.1825Z",
     "shell.execute_reply": "2022-08-08T18:12:58.181035Z",
     "shell.execute_reply.started": "2022-08-08T18:12:58.152525Z"
    }
   },
   "outputs": [],
   "source": [
    "### Looking at the modified datatypes of the dataset\n",
    "\n",
    "dataset.info()"
   ]
  },
  {
   "cell_type": "markdown",
   "metadata": {},
   "source": [
    "From the above data, it is evident that there are no missing values in the dataset. But from the initial observation, we see that the missing values are represented using '-' in the dataset."
   ]
  },
  {
   "cell_type": "code",
   "execution_count": null,
   "metadata": {
    "execution": {
     "iopub.execute_input": "2022-08-08T18:12:58.185538Z",
     "iopub.status.busy": "2022-08-08T18:12:58.184492Z",
     "iopub.status.idle": "2022-08-08T18:12:58.227485Z",
     "shell.execute_reply": "2022-08-08T18:12:58.225887Z",
     "shell.execute_reply.started": "2022-08-08T18:12:58.185498Z"
    }
   },
   "outputs": [],
   "source": [
    "### Missing values (-) in the dataset\n",
    "\n",
    "print('Missing values in the dataset:\\n')\n",
    "for each_column in dataset.columns:\n",
    "    print('Column: {} - {}'.format(each_column, list(dataset[each_column]).count('-')))"
   ]
  },
  {
   "cell_type": "markdown",
   "metadata": {},
   "source": [
    "From the above dataset, we can see that there are missing values in the column - Levy."
   ]
  },
  {
   "cell_type": "code",
   "execution_count": null,
   "metadata": {
    "execution": {
     "iopub.execute_input": "2022-08-08T18:12:58.230362Z",
     "iopub.status.busy": "2022-08-08T18:12:58.229893Z",
     "iopub.status.idle": "2022-08-08T18:12:58.250534Z",
     "shell.execute_reply": "2022-08-08T18:12:58.249483Z",
     "shell.execute_reply.started": "2022-08-08T18:12:58.230325Z"
    }
   },
   "outputs": [],
   "source": [
    "### Replacing the '-' to NA's in the column - Levy\n",
    "\n",
    "dataset['Levy'] = [np.nan if value == '-' else float(value) for value in dataset['Levy']]\n",
    "dataset['Levy'].isnull().sum()"
   ]
  },
  {
   "cell_type": "code",
   "execution_count": null,
   "metadata": {
    "execution": {
     "iopub.execute_input": "2022-08-08T18:12:58.252515Z",
     "iopub.status.busy": "2022-08-08T18:12:58.251863Z",
     "iopub.status.idle": "2022-08-08T18:12:59.043424Z",
     "shell.execute_reply": "2022-08-08T18:12:59.041723Z",
     "shell.execute_reply.started": "2022-08-08T18:12:58.252478Z"
    }
   },
   "outputs": [],
   "source": [
    "### Visual representation of the missing data in the dataset\n",
    "\n",
    "missingno.matrix(dataset)"
   ]
  },
  {
   "cell_type": "markdown",
   "metadata": {},
   "source": [
    "From the above dataset, we can see that there are missing values in the column - Levy."
   ]
  },
  {
   "cell_type": "code",
   "execution_count": null,
   "metadata": {
    "execution": {
     "iopub.execute_input": "2022-08-08T18:12:59.046105Z",
     "iopub.status.busy": "2022-08-08T18:12:59.045526Z",
     "iopub.status.idle": "2022-08-08T18:12:59.093182Z",
     "shell.execute_reply": "2022-08-08T18:12:59.091603Z",
     "shell.execute_reply.started": "2022-08-08T18:12:59.046054Z"
    }
   },
   "outputs": [],
   "source": [
    "### Summary statistics of the numerical columns in the dataset\n",
    "\n",
    "dataset.describe()"
   ]
  },
  {
   "cell_type": "markdown",
   "metadata": {},
   "source": [
    "# 3.2 Feature Analysis"
   ]
  },
  {
   "cell_type": "markdown",
   "metadata": {},
   "source": [
    "# 3.2.1 Categorical variable - Category"
   ]
  },
  {
   "cell_type": "code",
   "execution_count": null,
   "metadata": {
    "execution": {
     "iopub.execute_input": "2022-08-08T18:12:59.095649Z",
     "iopub.status.busy": "2022-08-08T18:12:59.095112Z",
     "iopub.status.idle": "2022-08-08T18:12:59.108717Z",
     "shell.execute_reply": "2022-08-08T18:12:59.107163Z",
     "shell.execute_reply.started": "2022-08-08T18:12:59.095599Z"
    }
   },
   "outputs": [],
   "source": [
    "### Value counts of the column - Category\n",
    "\n",
    "category_count = dataset['Category'].value_counts(dropna = False)\n",
    "category_count"
   ]
  },
  {
   "cell_type": "code",
   "execution_count": null,
   "metadata": {
    "execution": {
     "iopub.execute_input": "2022-08-08T18:12:59.11161Z",
     "iopub.status.busy": "2022-08-08T18:12:59.111081Z",
     "iopub.status.idle": "2022-08-08T18:12:59.331188Z",
     "shell.execute_reply": "2022-08-08T18:12:59.329437Z",
     "shell.execute_reply.started": "2022-08-08T18:12:59.111561Z"
    }
   },
   "outputs": [],
   "source": [
    "### Bar graph showing the value counts of the column - Category\n",
    "\n",
    "plt.figure(figsize = (12, 6))\n",
    "sns.barplot(category_count.index, category_count.values, alpha = 0.8)\n",
    "plt.title('Bar graph showing the value counts of the column - Category')\n",
    "plt.ylabel('Number of Occurrences', fontsize = 12)\n",
    "plt.xlabel('Category', fontsize = 12)\n",
    "plt.show()"
   ]
  },
  {
   "cell_type": "markdown",
   "metadata": {},
   "source": [
    "From the above graph, we can see that there is not sufficient data for the Categories - Cabriolet, Coupe, Goods wagon, Limousine, Microbus, Minivan, Pickup, Universal."
   ]
  },
  {
   "cell_type": "code",
   "execution_count": null,
   "metadata": {
    "execution": {
     "iopub.execute_input": "2022-08-08T18:12:59.333566Z",
     "iopub.status.busy": "2022-08-08T18:12:59.333135Z",
     "iopub.status.idle": "2022-08-08T18:12:59.355961Z",
     "shell.execute_reply": "2022-08-08T18:12:59.354729Z",
     "shell.execute_reply.started": "2022-08-08T18:12:59.33353Z"
    }
   },
   "outputs": [],
   "source": [
    "### Mean price per each Category \n",
    "\n",
    "mean_price_category = dataset[['Category', 'Price']].groupby('Category', as_index = False).mean()\n",
    "mean_price_category"
   ]
  },
  {
   "cell_type": "code",
   "execution_count": null,
   "metadata": {
    "execution": {
     "iopub.execute_input": "2022-08-08T18:12:59.357872Z",
     "iopub.status.busy": "2022-08-08T18:12:59.357531Z",
     "iopub.status.idle": "2022-08-08T18:12:59.575608Z",
     "shell.execute_reply": "2022-08-08T18:12:59.57402Z",
     "shell.execute_reply.started": "2022-08-08T18:12:59.357842Z"
    }
   },
   "outputs": [],
   "source": [
    "### Mean Price for each Category\n",
    "\n",
    "plt.figure(figsize = (12, 6))\n",
    "sns.barplot(mean_price_category['Category'], mean_price_category['Price'], alpha = 0.8)\n",
    "plt.title('Mean Sales Price for each Category')\n",
    "plt.ylabel('Mean Price', fontsize = 12)\n",
    "plt.xlabel('Category', fontsize = 12)\n",
    "plt.show()"
   ]
  },
  {
   "cell_type": "markdown",
   "metadata": {},
   "source": [
    "From the above graph, we can see that the mean price of all the categories is same. However, since there is no sufficient data we have to modify the column in order to get better information from the data."
   ]
  },
  {
   "cell_type": "markdown",
   "metadata": {},
   "source": [
    "# 3.2.2 Categorical variable - Leather interior"
   ]
  },
  {
   "cell_type": "code",
   "execution_count": null,
   "metadata": {
    "execution": {
     "iopub.execute_input": "2022-08-08T18:12:59.57748Z",
     "iopub.status.busy": "2022-08-08T18:12:59.577118Z",
     "iopub.status.idle": "2022-08-08T18:12:59.589222Z",
     "shell.execute_reply": "2022-08-08T18:12:59.587681Z",
     "shell.execute_reply.started": "2022-08-08T18:12:59.577448Z"
    }
   },
   "outputs": [],
   "source": [
    "### Value counts of the column - Leather interior\n",
    "\n",
    "interior_count = dataset['Leather interior'].value_counts(dropna = False)\n",
    "interior_count"
   ]
  },
  {
   "cell_type": "code",
   "execution_count": null,
   "metadata": {
    "execution": {
     "iopub.execute_input": "2022-08-08T18:12:59.59307Z",
     "iopub.status.busy": "2022-08-08T18:12:59.591264Z",
     "iopub.status.idle": "2022-08-08T18:12:59.743724Z",
     "shell.execute_reply": "2022-08-08T18:12:59.741964Z",
     "shell.execute_reply.started": "2022-08-08T18:12:59.592746Z"
    }
   },
   "outputs": [],
   "source": [
    "### Bar graph showing the value counts of the column - Leather interior\n",
    "\n",
    "sns.barplot(interior_count.index, interior_count.values, alpha = 0.8)\n",
    "plt.title('Bar graph showing the value counts of the column - Leather interior')\n",
    "plt.ylabel('Number of Occurrences', fontsize = 12)\n",
    "plt.xlabel('Leather interior', fontsize = 12)\n",
    "plt.show()"
   ]
  },
  {
   "cell_type": "markdown",
   "metadata": {},
   "source": [
    "From the above graph, we can see that most of the cars have a leather interior."
   ]
  },
  {
   "cell_type": "code",
   "execution_count": null,
   "metadata": {
    "execution": {
     "iopub.execute_input": "2022-08-08T18:12:59.747291Z",
     "iopub.status.busy": "2022-08-08T18:12:59.745852Z",
     "iopub.status.idle": "2022-08-08T18:12:59.767622Z",
     "shell.execute_reply": "2022-08-08T18:12:59.765975Z",
     "shell.execute_reply.started": "2022-08-08T18:12:59.747235Z"
    }
   },
   "outputs": [],
   "source": [
    "### Mean price per each Leather interior \n",
    "\n",
    "mean_price_interior = dataset[['Leather interior', 'Price']].groupby('Leather interior', as_index = False).mean()\n",
    "mean_price_interior"
   ]
  },
  {
   "cell_type": "code",
   "execution_count": null,
   "metadata": {
    "execution": {
     "iopub.execute_input": "2022-08-08T18:12:59.772193Z",
     "iopub.status.busy": "2022-08-08T18:12:59.771419Z",
     "iopub.status.idle": "2022-08-08T18:12:59.918722Z",
     "shell.execute_reply": "2022-08-08T18:12:59.916416Z",
     "shell.execute_reply.started": "2022-08-08T18:12:59.772151Z"
    }
   },
   "outputs": [],
   "source": [
    "### Mean Price for each Leather interior\n",
    "\n",
    "sns.barplot(mean_price_interior['Leather interior'], mean_price_interior['Price'], alpha = 0.8)\n",
    "plt.title('Mean Sales Price for each Leather interior')\n",
    "plt.ylabel('Mean Price', fontsize = 12)\n",
    "plt.xlabel('Leather interior', fontsize = 12)\n",
    "plt.show()"
   ]
  },
  {
   "cell_type": "markdown",
   "metadata": {},
   "source": [
    "From the above graph, we can see that the mean price of the car is same in both the cases."
   ]
  },
  {
   "cell_type": "markdown",
   "metadata": {},
   "source": [
    "# 3.2.3 Categorical variable - Fuel type"
   ]
  },
  {
   "cell_type": "code",
   "execution_count": null,
   "metadata": {
    "execution": {
     "iopub.execute_input": "2022-08-08T18:12:59.926838Z",
     "iopub.status.busy": "2022-08-08T18:12:59.924668Z",
     "iopub.status.idle": "2022-08-08T18:12:59.940007Z",
     "shell.execute_reply": "2022-08-08T18:12:59.938626Z",
     "shell.execute_reply.started": "2022-08-08T18:12:59.926761Z"
    }
   },
   "outputs": [],
   "source": [
    "### Value counts of the column - Fuel type\n",
    "\n",
    "fuel_count = dataset['Fuel type'].value_counts(dropna = False)\n",
    "fuel_count"
   ]
  },
  {
   "cell_type": "code",
   "execution_count": null,
   "metadata": {
    "execution": {
     "iopub.execute_input": "2022-08-08T18:12:59.943132Z",
     "iopub.status.busy": "2022-08-08T18:12:59.941802Z",
     "iopub.status.idle": "2022-08-08T18:13:00.178636Z",
     "shell.execute_reply": "2022-08-08T18:13:00.177288Z",
     "shell.execute_reply.started": "2022-08-08T18:12:59.943081Z"
    }
   },
   "outputs": [],
   "source": [
    "### Bar graph showing the value counts of the column - Fuel type\n",
    "\n",
    "plt.figure(figsize = (7, 5))\n",
    "sns.barplot(fuel_count.index, fuel_count.values, alpha = 0.8)\n",
    "plt.title('Bar graph showing the value counts of the column - Fuel type')\n",
    "plt.ylabel('Number of Occurrences', fontsize = 12)\n",
    "plt.xlabel('Fuel type', fontsize = 12)\n",
    "plt.show()"
   ]
  },
  {
   "cell_type": "markdown",
   "metadata": {},
   "source": [
    "From the above graph, there is no sufficient data for the fuel types - Hydrogen and Plug-in Hybrid. "
   ]
  },
  {
   "cell_type": "code",
   "execution_count": null,
   "metadata": {
    "execution": {
     "iopub.execute_input": "2022-08-08T18:13:00.181381Z",
     "iopub.status.busy": "2022-08-08T18:13:00.180854Z",
     "iopub.status.idle": "2022-08-08T18:13:00.20158Z",
     "shell.execute_reply": "2022-08-08T18:13:00.2Z",
     "shell.execute_reply.started": "2022-08-08T18:13:00.181333Z"
    }
   },
   "outputs": [],
   "source": [
    "### Mean price per each Fuel type\n",
    "\n",
    "mean_price_fuel = dataset[['Fuel type', 'Price']].groupby('Fuel type', as_index = False).mean()\n",
    "mean_price_fuel"
   ]
  },
  {
   "cell_type": "code",
   "execution_count": null,
   "metadata": {
    "execution": {
     "iopub.execute_input": "2022-08-08T18:13:00.204173Z",
     "iopub.status.busy": "2022-08-08T18:13:00.203494Z",
     "iopub.status.idle": "2022-08-08T18:13:00.449593Z",
     "shell.execute_reply": "2022-08-08T18:13:00.447321Z",
     "shell.execute_reply.started": "2022-08-08T18:13:00.204134Z"
    }
   },
   "outputs": [],
   "source": [
    "### Mean Price for each Fuel type\n",
    "\n",
    "plt.figure(figsize = (7, 5))\n",
    "sns.barplot(mean_price_fuel['Fuel type'], mean_price_fuel['Price'], alpha = 0.8)\n",
    "plt.title('Mean Sales Price for each Fuel type')\n",
    "plt.ylabel('Mean Price', fontsize = 12)\n",
    "plt.xlabel('Fuel type', fontsize = 12)\n",
    "plt.show()"
   ]
  },
  {
   "cell_type": "markdown",
   "metadata": {},
   "source": [
    "From the above graph, we can see that the mean price of the cars for every fuel type is different."
   ]
  },
  {
   "cell_type": "markdown",
   "metadata": {},
   "source": [
    "# 3.2.4 Categorical variable - Gear box type"
   ]
  },
  {
   "cell_type": "code",
   "execution_count": null,
   "metadata": {
    "execution": {
     "iopub.execute_input": "2022-08-08T18:13:00.454325Z",
     "iopub.status.busy": "2022-08-08T18:13:00.453192Z",
     "iopub.status.idle": "2022-08-08T18:13:00.467891Z",
     "shell.execute_reply": "2022-08-08T18:13:00.465989Z",
     "shell.execute_reply.started": "2022-08-08T18:13:00.454274Z"
    }
   },
   "outputs": [],
   "source": [
    "### Value counts of the column - Gear box type\n",
    "\n",
    "gear_count = dataset['Gear box type'].value_counts(dropna = False)\n",
    "gear_count"
   ]
  },
  {
   "cell_type": "code",
   "execution_count": null,
   "metadata": {
    "execution": {
     "iopub.execute_input": "2022-08-08T18:13:00.471061Z",
     "iopub.status.busy": "2022-08-08T18:13:00.470487Z",
     "iopub.status.idle": "2022-08-08T18:13:00.7052Z",
     "shell.execute_reply": "2022-08-08T18:13:00.703983Z",
     "shell.execute_reply.started": "2022-08-08T18:13:00.47102Z"
    }
   },
   "outputs": [],
   "source": [
    "### Bar graph showing the value counts of the column - Gear box type\n",
    "\n",
    "sns.barplot(gear_count.index, gear_count.values, alpha = 0.8)\n",
    "plt.title('Bar graph showing the value counts of the column - Gear box type')\n",
    "plt.ylabel('Number of Occurrences', fontsize = 12)\n",
    "plt.xlabel('Gear box type', fontsize = 12)\n",
    "plt.show()"
   ]
  },
  {
   "cell_type": "markdown",
   "metadata": {},
   "source": [
    "From the above graph, we can see that most of the cars have an automatic gear box type."
   ]
  },
  {
   "cell_type": "code",
   "execution_count": null,
   "metadata": {
    "execution": {
     "iopub.execute_input": "2022-08-08T18:13:00.707263Z",
     "iopub.status.busy": "2022-08-08T18:13:00.706868Z",
     "iopub.status.idle": "2022-08-08T18:13:00.724564Z",
     "shell.execute_reply": "2022-08-08T18:13:00.723115Z",
     "shell.execute_reply.started": "2022-08-08T18:13:00.707229Z"
    }
   },
   "outputs": [],
   "source": [
    "### Mean price per each Gear box type\n",
    "\n",
    "mean_price_gear = dataset[['Gear box type', 'Price']].groupby('Gear box type', as_index = False).mean()\n",
    "mean_price_gear"
   ]
  },
  {
   "cell_type": "code",
   "execution_count": null,
   "metadata": {
    "execution": {
     "iopub.execute_input": "2022-08-08T18:13:00.726512Z",
     "iopub.status.busy": "2022-08-08T18:13:00.726145Z",
     "iopub.status.idle": "2022-08-08T18:13:00.929918Z",
     "shell.execute_reply": "2022-08-08T18:13:00.928991Z",
     "shell.execute_reply.started": "2022-08-08T18:13:00.726479Z"
    }
   },
   "outputs": [],
   "source": [
    "### Mean Price for each Gear box type\n",
    "\n",
    "sns.barplot(mean_price_gear['Gear box type'], mean_price_gear['Price'], alpha = 0.8)\n",
    "plt.title('Mean Sales Price for each Gear box type')\n",
    "plt.ylabel('Mean Price', fontsize = 12)\n",
    "plt.xlabel('Gear box type', fontsize = 12)\n",
    "plt.show()"
   ]
  },
  {
   "cell_type": "markdown",
   "metadata": {},
   "source": [
    "From the above graph, we can see that automatic, variator have similar price. Similarly, the cars having manual, tiptronic have similar price."
   ]
  },
  {
   "cell_type": "markdown",
   "metadata": {},
   "source": [
    "# 3.2.5 Categorical variable - Drive wheels "
   ]
  },
  {
   "cell_type": "code",
   "execution_count": null,
   "metadata": {
    "execution": {
     "iopub.execute_input": "2022-08-08T18:13:00.932167Z",
     "iopub.status.busy": "2022-08-08T18:13:00.93117Z",
     "iopub.status.idle": "2022-08-08T18:13:00.942045Z",
     "shell.execute_reply": "2022-08-08T18:13:00.941058Z",
     "shell.execute_reply.started": "2022-08-08T18:13:00.932129Z"
    }
   },
   "outputs": [],
   "source": [
    "### Value counts of the column - Drive wheels\n",
    "\n",
    "drive_count = dataset['Drive wheels'].value_counts(dropna = False)\n",
    "drive_count"
   ]
  },
  {
   "cell_type": "code",
   "execution_count": null,
   "metadata": {
    "execution": {
     "iopub.execute_input": "2022-08-08T18:13:00.944152Z",
     "iopub.status.busy": "2022-08-08T18:13:00.943731Z",
     "iopub.status.idle": "2022-08-08T18:13:01.152603Z",
     "shell.execute_reply": "2022-08-08T18:13:01.151569Z",
     "shell.execute_reply.started": "2022-08-08T18:13:00.944118Z"
    }
   },
   "outputs": [],
   "source": [
    "### Bar graph showing the value counts of the column - Drive wheels\n",
    "\n",
    "sns.barplot(drive_count.index, drive_count.values, alpha = 0.8)\n",
    "plt.title('Bar graph showing the value counts of the column - Drive wheels')\n",
    "plt.ylabel('Number of Occurrences', fontsize = 12)\n",
    "plt.xlabel('Drive wheels', fontsize = 12)\n",
    "plt.show()"
   ]
  },
  {
   "cell_type": "markdown",
   "metadata": {},
   "source": [
    "From the above graph, we can see that most of the cars have Front drive wheels."
   ]
  },
  {
   "cell_type": "code",
   "execution_count": null,
   "metadata": {
    "execution": {
     "iopub.execute_input": "2022-08-08T18:13:01.154687Z",
     "iopub.status.busy": "2022-08-08T18:13:01.154086Z",
     "iopub.status.idle": "2022-08-08T18:13:01.171782Z",
     "shell.execute_reply": "2022-08-08T18:13:01.169959Z",
     "shell.execute_reply.started": "2022-08-08T18:13:01.154651Z"
    }
   },
   "outputs": [],
   "source": [
    "### Mean price per each Drive wheels\n",
    "\n",
    "mean_price_drive = dataset[['Drive wheels', 'Price']].groupby('Drive wheels', as_index = False).mean()\n",
    "mean_price_drive"
   ]
  },
  {
   "cell_type": "code",
   "execution_count": null,
   "metadata": {
    "execution": {
     "iopub.execute_input": "2022-08-08T18:13:01.174324Z",
     "iopub.status.busy": "2022-08-08T18:13:01.173926Z",
     "iopub.status.idle": "2022-08-08T18:13:01.386973Z",
     "shell.execute_reply": "2022-08-08T18:13:01.385309Z",
     "shell.execute_reply.started": "2022-08-08T18:13:01.17429Z"
    }
   },
   "outputs": [],
   "source": [
    "### Mean Price for each Drive wheels\n",
    "\n",
    "sns.barplot(mean_price_drive['Drive wheels'], mean_price_drive['Price'], alpha = 0.8)\n",
    "plt.title('Mean Sales Price for each Drive wheels')\n",
    "plt.ylabel('Mean Price', fontsize = 12)\n",
    "plt.xlabel('Drive wheels', fontsize = 12)\n",
    "plt.show()"
   ]
  },
  {
   "cell_type": "markdown",
   "metadata": {},
   "source": [
    "From the above graph, we can see that the mean sales price of all the drive wheels is similar."
   ]
  },
  {
   "cell_type": "markdown",
   "metadata": {},
   "source": [
    "# 3.2.6 Categorical variable - Doors"
   ]
  },
  {
   "cell_type": "code",
   "execution_count": null,
   "metadata": {
    "execution": {
     "iopub.execute_input": "2022-08-08T18:13:01.389656Z",
     "iopub.status.busy": "2022-08-08T18:13:01.389176Z",
     "iopub.status.idle": "2022-08-08T18:13:01.400967Z",
     "shell.execute_reply": "2022-08-08T18:13:01.399501Z",
     "shell.execute_reply.started": "2022-08-08T18:13:01.389594Z"
    }
   },
   "outputs": [],
   "source": [
    "### Value counts of the column - Doors\n",
    "\n",
    "doors_count = dataset['Doors'].value_counts(dropna = False)\n",
    "doors_count"
   ]
  },
  {
   "cell_type": "code",
   "execution_count": null,
   "metadata": {
    "execution": {
     "iopub.execute_input": "2022-08-08T18:13:01.403266Z",
     "iopub.status.busy": "2022-08-08T18:13:01.40249Z",
     "iopub.status.idle": "2022-08-08T18:13:01.61678Z",
     "shell.execute_reply": "2022-08-08T18:13:01.615132Z",
     "shell.execute_reply.started": "2022-08-08T18:13:01.403223Z"
    }
   },
   "outputs": [],
   "source": [
    "### Bar graph showing the value counts of the column - Doors\n",
    "\n",
    "sns.barplot(doors_count.index, doors_count.values, alpha = 0.8)\n",
    "plt.title('Bar graph showing the value counts of the column - Doors')\n",
    "plt.ylabel('Number of Occurrences', fontsize = 12)\n",
    "plt.xlabel('Doors', fontsize = 12)\n",
    "plt.show()"
   ]
  },
  {
   "cell_type": "markdown",
   "metadata": {},
   "source": [
    "Here in the above graph, the value 02-Mar means 2-3 doors, 04-Mar means 4-5 doors. Here, we will replace these values during Data preprocessing phase."
   ]
  },
  {
   "cell_type": "code",
   "execution_count": null,
   "metadata": {
    "execution": {
     "iopub.execute_input": "2022-08-08T18:13:01.619011Z",
     "iopub.status.busy": "2022-08-08T18:13:01.618623Z",
     "iopub.status.idle": "2022-08-08T18:13:01.639412Z",
     "shell.execute_reply": "2022-08-08T18:13:01.637834Z",
     "shell.execute_reply.started": "2022-08-08T18:13:01.618978Z"
    }
   },
   "outputs": [],
   "source": [
    "### Mean price per each Doors\n",
    "\n",
    "mean_price_doors = dataset[['Doors', 'Price']].groupby('Doors', as_index = False).mean()\n",
    "mean_price_doors"
   ]
  },
  {
   "cell_type": "code",
   "execution_count": null,
   "metadata": {
    "execution": {
     "iopub.execute_input": "2022-08-08T18:13:01.642377Z",
     "iopub.status.busy": "2022-08-08T18:13:01.640946Z",
     "iopub.status.idle": "2022-08-08T18:13:01.837784Z",
     "shell.execute_reply": "2022-08-08T18:13:01.836285Z",
     "shell.execute_reply.started": "2022-08-08T18:13:01.64233Z"
    }
   },
   "outputs": [],
   "source": [
    "### Mean Price for each Doors\n",
    "\n",
    "sns.barplot(mean_price_doors['Doors'], mean_price_doors['Price'], alpha = 0.8)\n",
    "plt.title('Mean Sales Price for each Doors')\n",
    "plt.ylabel('Mean Price', fontsize = 12)\n",
    "plt.xlabel('Doors', fontsize = 12)\n",
    "plt.show()"
   ]
  },
  {
   "cell_type": "markdown",
   "metadata": {},
   "source": [
    "From the above graph, we can see that cars having 2-3 doors have a high price."
   ]
  },
  {
   "cell_type": "markdown",
   "metadata": {},
   "source": [
    "# 3.2.7 Categorical variable - Wheel"
   ]
  },
  {
   "cell_type": "code",
   "execution_count": null,
   "metadata": {
    "execution": {
     "iopub.execute_input": "2022-08-08T18:13:01.840436Z",
     "iopub.status.busy": "2022-08-08T18:13:01.840058Z",
     "iopub.status.idle": "2022-08-08T18:13:01.852892Z",
     "shell.execute_reply": "2022-08-08T18:13:01.850952Z",
     "shell.execute_reply.started": "2022-08-08T18:13:01.840404Z"
    }
   },
   "outputs": [],
   "source": [
    "### Value counts of the column - Wheel\n",
    "\n",
    "wheel_count = dataset['Wheel'].value_counts(dropna = False)\n",
    "wheel_count"
   ]
  },
  {
   "cell_type": "code",
   "execution_count": null,
   "metadata": {
    "execution": {
     "iopub.execute_input": "2022-08-08T18:13:01.85563Z",
     "iopub.status.busy": "2022-08-08T18:13:01.855054Z",
     "iopub.status.idle": "2022-08-08T18:13:02.059285Z",
     "shell.execute_reply": "2022-08-08T18:13:02.057711Z",
     "shell.execute_reply.started": "2022-08-08T18:13:01.855593Z"
    }
   },
   "outputs": [],
   "source": [
    "### Bar graph showing the value counts of the column - Wheel\n",
    "\n",
    "sns.barplot(wheel_count.index, wheel_count.values, alpha = 0.8)\n",
    "plt.title('Bar graph showing the value counts of the column - Wheel')\n",
    "plt.ylabel('Number of Occurrences', fontsize = 12)\n",
    "plt.xlabel('Wheel', fontsize = 12)\n",
    "plt.show()"
   ]
  },
  {
   "cell_type": "markdown",
   "metadata": {},
   "source": [
    "From the above graph, it is evident that most of the cars in the dataset have a left steering."
   ]
  },
  {
   "cell_type": "code",
   "execution_count": null,
   "metadata": {
    "execution": {
     "iopub.execute_input": "2022-08-08T18:13:02.061738Z",
     "iopub.status.busy": "2022-08-08T18:13:02.061369Z",
     "iopub.status.idle": "2022-08-08T18:13:02.077687Z",
     "shell.execute_reply": "2022-08-08T18:13:02.076713Z",
     "shell.execute_reply.started": "2022-08-08T18:13:02.061706Z"
    }
   },
   "outputs": [],
   "source": [
    "### Mean price per each Wheel\n",
    "\n",
    "mean_price_wheel = dataset[['Wheel', 'Price']].groupby('Wheel', as_index = False).mean()\n",
    "mean_price_wheel"
   ]
  },
  {
   "cell_type": "code",
   "execution_count": null,
   "metadata": {
    "execution": {
     "iopub.execute_input": "2022-08-08T18:13:02.07944Z",
     "iopub.status.busy": "2022-08-08T18:13:02.07909Z",
     "iopub.status.idle": "2022-08-08T18:13:02.282851Z",
     "shell.execute_reply": "2022-08-08T18:13:02.281842Z",
     "shell.execute_reply.started": "2022-08-08T18:13:02.079404Z"
    }
   },
   "outputs": [],
   "source": [
    "### Mean Price for each Wheel\n",
    "\n",
    "sns.barplot(mean_price_wheel['Wheel'], mean_price_wheel['Price'], alpha = 0.8)\n",
    "plt.title('Mean Sales Price for each Wheel')\n",
    "plt.ylabel('Mean Price', fontsize = 12)\n",
    "plt.xlabel('Wheel', fontsize = 12)\n",
    "plt.show()"
   ]
  },
  {
   "cell_type": "markdown",
   "metadata": {},
   "source": [
    "From the above graph, we can see that cars having a left steering have a high price than their right counterparts."
   ]
  },
  {
   "cell_type": "markdown",
   "metadata": {},
   "source": [
    "# 3.2.8 Categorical variable - Color"
   ]
  },
  {
   "cell_type": "code",
   "execution_count": null,
   "metadata": {
    "execution": {
     "iopub.execute_input": "2022-08-08T18:13:02.285392Z",
     "iopub.status.busy": "2022-08-08T18:13:02.284599Z",
     "iopub.status.idle": "2022-08-08T18:13:02.296816Z",
     "shell.execute_reply": "2022-08-08T18:13:02.295588Z",
     "shell.execute_reply.started": "2022-08-08T18:13:02.28535Z"
    }
   },
   "outputs": [],
   "source": [
    "### Value counts of the column - Color\n",
    "\n",
    "color_count = dataset['Color'].value_counts(dropna = False)\n",
    "color_count"
   ]
  },
  {
   "cell_type": "code",
   "execution_count": null,
   "metadata": {
    "execution": {
     "iopub.execute_input": "2022-08-08T18:13:02.299204Z",
     "iopub.status.busy": "2022-08-08T18:13:02.298357Z",
     "iopub.status.idle": "2022-08-08T18:13:02.626268Z",
     "shell.execute_reply": "2022-08-08T18:13:02.625162Z",
     "shell.execute_reply.started": "2022-08-08T18:13:02.299167Z"
    }
   },
   "outputs": [],
   "source": [
    "### Bar graph showing the value counts of the column - Color\n",
    "\n",
    "plt.figure(figsize = (14, 5))\n",
    "sns.barplot(color_count.index, color_count.values, alpha = 0.8)\n",
    "plt.title('Bar graph showing the value counts of the column - Color')\n",
    "plt.ylabel('Number of Occurrences', fontsize = 12)\n",
    "plt.xlabel('Color', fontsize = 12)\n",
    "plt.show()"
   ]
  },
  {
   "cell_type": "markdown",
   "metadata": {},
   "source": [
    "From the above graph, we can see that most of the colors of the cars have insufficient data."
   ]
  },
  {
   "cell_type": "code",
   "execution_count": null,
   "metadata": {
    "execution": {
     "iopub.execute_input": "2022-08-08T18:13:02.628471Z",
     "iopub.status.busy": "2022-08-08T18:13:02.627802Z",
     "iopub.status.idle": "2022-08-08T18:13:02.64921Z",
     "shell.execute_reply": "2022-08-08T18:13:02.648266Z",
     "shell.execute_reply.started": "2022-08-08T18:13:02.628424Z"
    }
   },
   "outputs": [],
   "source": [
    "### Mean price per each Color\n",
    "\n",
    "mean_price_color = dataset[['Color', 'Price']].groupby('Color', as_index = False).mean()\n",
    "mean_price_color"
   ]
  },
  {
   "cell_type": "code",
   "execution_count": null,
   "metadata": {
    "execution": {
     "iopub.execute_input": "2022-08-08T18:13:02.651638Z",
     "iopub.status.busy": "2022-08-08T18:13:02.650851Z",
     "iopub.status.idle": "2022-08-08T18:13:02.976284Z",
     "shell.execute_reply": "2022-08-08T18:13:02.97488Z",
     "shell.execute_reply.started": "2022-08-08T18:13:02.651597Z"
    }
   },
   "outputs": [],
   "source": [
    "### Mean Price for each Color\n",
    "\n",
    "plt.figure(figsize = (14, 5))\n",
    "sns.barplot(mean_price_color['Color'], mean_price_color['Price'], alpha = 0.8)\n",
    "plt.title('Mean Sales Price for each Color')\n",
    "plt.ylabel('Mean Price', fontsize = 12)\n",
    "plt.xlabel('Color', fontsize = 12)\n",
    "plt.show()"
   ]
  },
  {
   "cell_type": "markdown",
   "metadata": {},
   "source": [
    "From the above graph, we can see that most of the colors have a similar mean price."
   ]
  },
  {
   "cell_type": "markdown",
   "metadata": {},
   "source": [
    "# 3.2.9 Numerical variable - Price"
   ]
  },
  {
   "cell_type": "code",
   "execution_count": null,
   "metadata": {
    "execution": {
     "iopub.execute_input": "2022-08-08T18:13:02.978434Z",
     "iopub.status.busy": "2022-08-08T18:13:02.978034Z",
     "iopub.status.idle": "2022-08-08T18:13:03.467003Z",
     "shell.execute_reply": "2022-08-08T18:13:03.465499Z",
     "shell.execute_reply.started": "2022-08-08T18:13:02.9784Z"
    }
   },
   "outputs": [],
   "source": [
    "### Understanding the distribution of the column - Price\n",
    "\n",
    "sns.distplot(dataset['Price'], label = 'Skewness: %.2f'%(dataset['Price'].skew()))\n",
    "plt.legend(loc = 'best')\n",
    "plt.title('Price Distribution')"
   ]
  },
  {
   "cell_type": "markdown",
   "metadata": {},
   "source": [
    "From the above graph, we can see that the data is highly skewed. We will focus on removing the skewness in the Data preprocessing phase."
   ]
  },
  {
   "cell_type": "code",
   "execution_count": null,
   "metadata": {
    "execution": {
     "iopub.execute_input": "2022-08-08T18:13:03.472259Z",
     "iopub.status.busy": "2022-08-08T18:13:03.469054Z",
     "iopub.status.idle": "2022-08-08T18:13:03.682373Z",
     "shell.execute_reply": "2022-08-08T18:13:03.681165Z",
     "shell.execute_reply.started": "2022-08-08T18:13:03.472212Z"
    }
   },
   "outputs": [],
   "source": [
    "### Plotting a boxplot to check if the column has any outliers \n",
    "\n",
    "dataset.boxplot(column = ['Price'])"
   ]
  },
  {
   "cell_type": "markdown",
   "metadata": {},
   "source": [
    "From the above graph, we can see that there are outliers in the column - Price. We will focus on removing them in the Data preprocessing phase."
   ]
  },
  {
   "cell_type": "markdown",
   "metadata": {},
   "source": [
    "# 3.2.10 Numerical variable - Levy"
   ]
  },
  {
   "cell_type": "code",
   "execution_count": null,
   "metadata": {
    "execution": {
     "iopub.execute_input": "2022-08-08T18:13:03.685059Z",
     "iopub.status.busy": "2022-08-08T18:13:03.684505Z",
     "iopub.status.idle": "2022-08-08T18:13:04.164937Z",
     "shell.execute_reply": "2022-08-08T18:13:04.163985Z",
     "shell.execute_reply.started": "2022-08-08T18:13:03.685019Z"
    }
   },
   "outputs": [],
   "source": [
    "### Understanding the distribution of the column - Levy\n",
    "\n",
    "sns.distplot(dataset['Levy'], label = 'Skewness: %.2f'%(dataset['Levy'].skew()))\n",
    "plt.legend(loc = 'best')\n",
    "plt.title('Distribution of the column - Levy')"
   ]
  },
  {
   "cell_type": "markdown",
   "metadata": {},
   "source": [
    "From the above graph, we can see that the distribution is similar to normal distribution with a degree of right skewness."
   ]
  },
  {
   "cell_type": "code",
   "execution_count": null,
   "metadata": {
    "execution": {
     "iopub.execute_input": "2022-08-08T18:13:04.167164Z",
     "iopub.status.busy": "2022-08-08T18:13:04.166568Z",
     "iopub.status.idle": "2022-08-08T18:13:04.800663Z",
     "shell.execute_reply": "2022-08-08T18:13:04.799789Z",
     "shell.execute_reply.started": "2022-08-08T18:13:04.167128Z"
    }
   },
   "outputs": [],
   "source": [
    "### Plotting a boxplot to check if the column has any outliers \n",
    "\n",
    "dataset.boxplot(column = ['Levy'])"
   ]
  },
  {
   "cell_type": "markdown",
   "metadata": {},
   "source": [
    "From the above graph, we can see that there are outliers in the column - Levy. We will focus on removing them in the Data preprocessing phase."
   ]
  },
  {
   "cell_type": "markdown",
   "metadata": {},
   "source": [
    "# 3.2.11 Numerical variable - Prod. year"
   ]
  },
  {
   "cell_type": "code",
   "execution_count": null,
   "metadata": {
    "execution": {
     "iopub.execute_input": "2022-08-08T18:13:04.802685Z",
     "iopub.status.busy": "2022-08-08T18:13:04.802151Z",
     "iopub.status.idle": "2022-08-08T18:13:05.308279Z",
     "shell.execute_reply": "2022-08-08T18:13:05.306971Z",
     "shell.execute_reply.started": "2022-08-08T18:13:04.802651Z"
    }
   },
   "outputs": [],
   "source": [
    "### Understanding the distribution of the column - Prod. year\n",
    "\n",
    "sns.distplot(dataset['Prod. year'], label = 'Skewness: %.2f'%(dataset['Prod. year'].skew()))\n",
    "plt.legend(loc = 'best')\n",
    "plt.title('Distribution of the column - Prod. year')"
   ]
  },
  {
   "cell_type": "markdown",
   "metadata": {},
   "source": [
    "From the above graph, we can see that the graph is normally distributed with a left tail."
   ]
  },
  {
   "cell_type": "code",
   "execution_count": null,
   "metadata": {
    "execution": {
     "iopub.execute_input": "2022-08-08T18:13:05.310549Z",
     "iopub.status.busy": "2022-08-08T18:13:05.31014Z",
     "iopub.status.idle": "2022-08-08T18:13:05.525572Z",
     "shell.execute_reply": "2022-08-08T18:13:05.524672Z",
     "shell.execute_reply.started": "2022-08-08T18:13:05.310513Z"
    }
   },
   "outputs": [],
   "source": [
    "### Plotting a boxplot to check if the column has any outliers \n",
    "\n",
    "dataset.boxplot(column = ['Prod. year'])"
   ]
  },
  {
   "cell_type": "markdown",
   "metadata": {},
   "source": [
    "From the above graph, we can see that there are outliers in the column - Prod. year. We will focus on removing them in the Data preprocessing phase."
   ]
  },
  {
   "cell_type": "markdown",
   "metadata": {},
   "source": [
    "# 3.2.12 Numerical variable - Mileage"
   ]
  },
  {
   "cell_type": "code",
   "execution_count": null,
   "metadata": {
    "execution": {
     "iopub.execute_input": "2022-08-08T18:13:05.528428Z",
     "iopub.status.busy": "2022-08-08T18:13:05.526998Z",
     "iopub.status.idle": "2022-08-08T18:13:05.549417Z",
     "shell.execute_reply": "2022-08-08T18:13:05.547971Z",
     "shell.execute_reply.started": "2022-08-08T18:13:05.528383Z"
    }
   },
   "outputs": [],
   "source": [
    "### Modifying the column - Mileage\n",
    "\n",
    "modified_mileage = [float(value.split(' ')[0]) for value in dataset['Mileage']]\n",
    "dataset['Mileage'] = modified_mileage"
   ]
  },
  {
   "cell_type": "code",
   "execution_count": null,
   "metadata": {
    "execution": {
     "iopub.execute_input": "2022-08-08T18:13:05.551443Z",
     "iopub.status.busy": "2022-08-08T18:13:05.551004Z",
     "iopub.status.idle": "2022-08-08T18:13:06.041882Z",
     "shell.execute_reply": "2022-08-08T18:13:06.040986Z",
     "shell.execute_reply.started": "2022-08-08T18:13:05.551407Z"
    }
   },
   "outputs": [],
   "source": [
    "### Understanding the distribution of the column - Mileage\n",
    "\n",
    "sns.distplot(dataset['Mileage'], label = 'Skewness: %.2f'%(dataset['Mileage'].skew()))\n",
    "plt.legend(loc = 'best')\n",
    "plt.title('Distribution of the column - Mileage')"
   ]
  },
  {
   "cell_type": "markdown",
   "metadata": {},
   "source": [
    "From the above graph, we can see that the graph has a high degree of skewness."
   ]
  },
  {
   "cell_type": "code",
   "execution_count": null,
   "metadata": {
    "execution": {
     "iopub.execute_input": "2022-08-08T18:13:06.044306Z",
     "iopub.status.busy": "2022-08-08T18:13:06.043813Z",
     "iopub.status.idle": "2022-08-08T18:13:06.245382Z",
     "shell.execute_reply": "2022-08-08T18:13:06.243998Z",
     "shell.execute_reply.started": "2022-08-08T18:13:06.044259Z"
    }
   },
   "outputs": [],
   "source": [
    "### Plotting a boxplot to check if the column has any outliers \n",
    "\n",
    "dataset.boxplot(column = ['Mileage'])"
   ]
  },
  {
   "cell_type": "markdown",
   "metadata": {},
   "source": [
    "From the above graph, we can see that there are outliers in the column - Mileage. We will focus on removing them in the Data preprocessing phase."
   ]
  },
  {
   "cell_type": "markdown",
   "metadata": {},
   "source": [
    "# 3.2.13 Numerical variable - Cylinders"
   ]
  },
  {
   "cell_type": "code",
   "execution_count": null,
   "metadata": {
    "execution": {
     "iopub.execute_input": "2022-08-08T18:13:06.247553Z",
     "iopub.status.busy": "2022-08-08T18:13:06.247182Z",
     "iopub.status.idle": "2022-08-08T18:13:06.749921Z",
     "shell.execute_reply": "2022-08-08T18:13:06.748347Z",
     "shell.execute_reply.started": "2022-08-08T18:13:06.247518Z"
    }
   },
   "outputs": [],
   "source": [
    "### Understanding the distribution of the column - Cylinders\n",
    "\n",
    "sns.distplot(dataset['Cylinders'], label = 'Skewness: %.2f'%(dataset['Cylinders'].skew()))\n",
    "plt.legend(loc = 'best')\n",
    "plt.title('Distribution of the column - Cylinders')"
   ]
  },
  {
   "cell_type": "markdown",
   "metadata": {},
   "source": [
    "From the above graph, we can see that there are 3 different cylinders - 4, 6, and 8. "
   ]
  },
  {
   "cell_type": "markdown",
   "metadata": {},
   "source": [
    "# 3.2.14 Numerical variables - Airbags"
   ]
  },
  {
   "cell_type": "code",
   "execution_count": null,
   "metadata": {
    "execution": {
     "iopub.execute_input": "2022-08-08T18:13:06.754256Z",
     "iopub.status.busy": "2022-08-08T18:13:06.753691Z",
     "iopub.status.idle": "2022-08-08T18:13:07.193245Z",
     "shell.execute_reply": "2022-08-08T18:13:07.191755Z",
     "shell.execute_reply.started": "2022-08-08T18:13:06.754216Z"
    }
   },
   "outputs": [],
   "source": [
    "### Understanding the distribution of the column - Airbags\n",
    "\n",
    "sns.distplot(dataset['Airbags'], label = 'Skewness: %.2f'%(dataset['Airbags'].skew()))\n",
    "plt.legend(loc = 'best')\n",
    "plt.title('Distribution of the column - Airbags')"
   ]
  },
  {
   "cell_type": "markdown",
   "metadata": {},
   "source": [
    "From the above graph, we can see that the data has less skewness."
   ]
  },
  {
   "cell_type": "markdown",
   "metadata": {},
   "source": [
    "# 3.2.15 Numerical variables - Engine volume"
   ]
  },
  {
   "cell_type": "code",
   "execution_count": null,
   "metadata": {
    "execution": {
     "iopub.execute_input": "2022-08-08T18:13:07.195798Z",
     "iopub.status.busy": "2022-08-08T18:13:07.195394Z",
     "iopub.status.idle": "2022-08-08T18:13:07.21582Z",
     "shell.execute_reply": "2022-08-08T18:13:07.21474Z",
     "shell.execute_reply.started": "2022-08-08T18:13:07.195762Z"
    }
   },
   "outputs": [],
   "source": [
    "### Modifying the column - Engine volume\n",
    "\n",
    "modified_volume = [float(value.split(' ')[0]) for value in dataset['Engine volume']]\n",
    "dataset['Engine volume'] = modified_volume"
   ]
  },
  {
   "cell_type": "code",
   "execution_count": null,
   "metadata": {
    "execution": {
     "iopub.execute_input": "2022-08-08T18:13:07.218308Z",
     "iopub.status.busy": "2022-08-08T18:13:07.217195Z",
     "iopub.status.idle": "2022-08-08T18:13:07.722708Z",
     "shell.execute_reply": "2022-08-08T18:13:07.721332Z",
     "shell.execute_reply.started": "2022-08-08T18:13:07.218222Z"
    }
   },
   "outputs": [],
   "source": [
    "### Understanding the distribution of the column - Engine volume\n",
    "\n",
    "sns.distplot(dataset['Engine volume'], label = 'Skewness: %.2f'%(dataset['Engine volume'].skew()))\n",
    "plt.legend(loc = 'best')\n",
    "plt.title('Distribution of the column - Engine volume')"
   ]
  },
  {
   "cell_type": "markdown",
   "metadata": {},
   "source": [
    "From the above graph, we can see that the graph is normally distributed with a slight degree of skewness on the right side."
   ]
  },
  {
   "cell_type": "code",
   "execution_count": null,
   "metadata": {
    "execution": {
     "iopub.execute_input": "2022-08-08T18:13:07.725626Z",
     "iopub.status.busy": "2022-08-08T18:13:07.725225Z",
     "iopub.status.idle": "2022-08-08T18:13:07.937887Z",
     "shell.execute_reply": "2022-08-08T18:13:07.936249Z",
     "shell.execute_reply.started": "2022-08-08T18:13:07.725591Z"
    }
   },
   "outputs": [],
   "source": [
    "### Plotting a boxplot to check if the column has any outliers \n",
    "\n",
    "dataset.boxplot(column = ['Engine volume'])"
   ]
  },
  {
   "cell_type": "markdown",
   "metadata": {},
   "source": [
    "From the above graph, we can see that there are outliers in the column - Engine volume. We will focus on removing them in the Data preprocessing phase."
   ]
  },
  {
   "cell_type": "markdown",
   "metadata": {},
   "source": [
    "# 4. Data Preprocessing"
   ]
  },
  {
   "cell_type": "markdown",
   "metadata": {},
   "source": [
    "Data preprocessing is the process of getting our dataset ready for model training. In this section, we will perform the following preprocessing steps:\n",
    "\n",
    "1. Detect and remove outliers in numerical variables\n",
    "2. Drop and fill missing values\n",
    "3. Feature Engineering\n",
    "4. Data Trasformation\n",
    "5. Feature Encoding\n",
    "6. Feature Selection"
   ]
  },
  {
   "cell_type": "markdown",
   "metadata": {},
   "source": [
    "# 4.1 Detect and remove outliers in numerical variables"
   ]
  },
  {
   "cell_type": "markdown",
   "metadata": {},
   "source": [
    "Outliers are data points that have extreme values and they do not conform with the majority of the data. It is important to address this because outliers tend to skew our data towards extremes and can cause inaccurate model predictions. I will use the Tukey method to remove these outliers.\n",
    "\n",
    "Here, we will write a function that will loop through a list of features and detect outliers in each one of those features. In each loop, a data point is deemed an outlier if it is less than the first quartile minus the outlier step or exceeds third quartile plus the outlier step. The outlier step is defined as 1.5 times the interquartile range. Once the outliers have been determined for one feature, their indices will be stored in a list before proceeding to the next feature and the process repeats until the very last feature is completed. Finally, using the list with outlier indices, we will count the frequencies of the index numbers and return them if their frequency exceeds n times."
   ]
  },
  {
   "cell_type": "code",
   "execution_count": null,
   "metadata": {
    "execution": {
     "iopub.execute_input": "2022-08-08T18:13:07.940277Z",
     "iopub.status.busy": "2022-08-08T18:13:07.939831Z",
     "iopub.status.idle": "2022-08-08T18:13:07.975312Z",
     "shell.execute_reply": "2022-08-08T18:13:07.973815Z",
     "shell.execute_reply.started": "2022-08-08T18:13:07.940241Z"
    }
   },
   "outputs": [],
   "source": [
    "def detect_outliers(df, n, features_list):\n",
    "    outlier_indices = [] \n",
    "    for feature in features_list: \n",
    "        Q1 = np.percentile(df[feature], 25)\n",
    "        Q3 = np.percentile(df[feature], 75)\n",
    "        IQR = Q3 - Q1\n",
    "        outlier_step = 1.5 * IQR \n",
    "        outlier_list_col = df[(df[feature] < Q1 - outlier_step) | (df[feature] > Q3 + outlier_step)].index\n",
    "        outlier_indices.extend(outlier_list_col) \n",
    "    outlier_indices = Counter(outlier_indices)\n",
    "    multiple_outliers = list(key for key, value in outlier_indices.items() if value > n) \n",
    "    return multiple_outliers\n",
    "\n",
    "outliers_to_drop = detect_outliers(dataset, 2, ['Price', 'Levy', 'Prod. year', 'Mileage', 'Cylinders', 'Airbags',\n",
    "                                               'Engine volume'])\n",
    "print(\"We will drop these {} indices: \".format(len(outliers_to_drop)), outliers_to_drop)"
   ]
  },
  {
   "cell_type": "markdown",
   "metadata": {},
   "source": [
    "Now let's look at the data present in the rows."
   ]
  },
  {
   "cell_type": "code",
   "execution_count": null,
   "metadata": {
    "execution": {
     "iopub.execute_input": "2022-08-08T18:13:07.977962Z",
     "iopub.status.busy": "2022-08-08T18:13:07.977374Z",
     "iopub.status.idle": "2022-08-08T18:13:08.025549Z",
     "shell.execute_reply": "2022-08-08T18:13:08.023997Z",
     "shell.execute_reply.started": "2022-08-08T18:13:07.977893Z"
    }
   },
   "outputs": [],
   "source": [
    "dataset.iloc[outliers_to_drop, :]"
   ]
  },
  {
   "cell_type": "markdown",
   "metadata": {},
   "source": [
    "We will drop these rows from the dataset."
   ]
  },
  {
   "cell_type": "code",
   "execution_count": null,
   "metadata": {
    "execution": {
     "iopub.execute_input": "2022-08-08T18:13:08.027987Z",
     "iopub.status.busy": "2022-08-08T18:13:08.027479Z",
     "iopub.status.idle": "2022-08-08T18:13:08.041439Z",
     "shell.execute_reply": "2022-08-08T18:13:08.040159Z",
     "shell.execute_reply.started": "2022-08-08T18:13:08.02794Z"
    }
   },
   "outputs": [],
   "source": [
    "### Drop outliers and reset index\n",
    "\n",
    "print(\"Before: {} rows\".format(len(dataset)))\n",
    "dataset = dataset.drop(outliers_to_drop, axis = 0).reset_index(drop = True)\n",
    "print(\"After: {} rows\".format(len(dataset)))"
   ]
  },
  {
   "cell_type": "code",
   "execution_count": null,
   "metadata": {
    "execution": {
     "iopub.execute_input": "2022-08-08T18:13:08.044602Z",
     "iopub.status.busy": "2022-08-08T18:13:08.043235Z",
     "iopub.status.idle": "2022-08-08T18:13:08.084304Z",
     "shell.execute_reply": "2022-08-08T18:13:08.082957Z",
     "shell.execute_reply.started": "2022-08-08T18:13:08.044531Z"
    }
   },
   "outputs": [],
   "source": [
    "### Lets look at the new dataset\n",
    "\n",
    "dataset"
   ]
  },
  {
   "cell_type": "markdown",
   "metadata": {},
   "source": [
    "# 4.2 Drop and fill missing values"
   ]
  },
  {
   "cell_type": "markdown",
   "metadata": {},
   "source": [
    "Here in the dataset, only the column - Levy has missing values. We will focus on replacing those missing values."
   ]
  },
  {
   "cell_type": "markdown",
   "metadata": {},
   "source": [
    "# 4.2.1 Handling missing values - Levy"
   ]
  },
  {
   "cell_type": "code",
   "execution_count": null,
   "metadata": {
    "execution": {
     "iopub.execute_input": "2022-08-08T18:13:08.08814Z",
     "iopub.status.busy": "2022-08-08T18:13:08.087239Z",
     "iopub.status.idle": "2022-08-08T18:13:08.102757Z",
     "shell.execute_reply": "2022-08-08T18:13:08.101384Z",
     "shell.execute_reply.started": "2022-08-08T18:13:08.088091Z"
    }
   },
   "outputs": [],
   "source": [
    "### Replacing the missing values in the column - Levy using median\n",
    "\n",
    "levy_index = list(~dataset['Levy'].isnull())\n",
    "median_levy = np.median(dataset['Levy'].loc[levy_index])\n",
    "median_levy"
   ]
  },
  {
   "cell_type": "code",
   "execution_count": null,
   "metadata": {
    "execution": {
     "iopub.execute_input": "2022-08-08T18:13:08.104725Z",
     "iopub.status.busy": "2022-08-08T18:13:08.10435Z",
     "iopub.status.idle": "2022-08-08T18:13:08.111215Z",
     "shell.execute_reply": "2022-08-08T18:13:08.110063Z",
     "shell.execute_reply.started": "2022-08-08T18:13:08.104693Z"
    }
   },
   "outputs": [],
   "source": [
    "### Replacing the missing values of the column - Levy in the dataset\n",
    "\n",
    "dataset['Levy'].fillna(median_levy, inplace = True)"
   ]
  },
  {
   "cell_type": "code",
   "execution_count": null,
   "metadata": {
    "execution": {
     "iopub.execute_input": "2022-08-08T18:13:08.113293Z",
     "iopub.status.busy": "2022-08-08T18:13:08.112888Z",
     "iopub.status.idle": "2022-08-08T18:13:08.127606Z",
     "shell.execute_reply": "2022-08-08T18:13:08.126474Z",
     "shell.execute_reply.started": "2022-08-08T18:13:08.113258Z"
    }
   },
   "outputs": [],
   "source": [
    "### Checking if there are any missing values of Levy in the dataset\n",
    "\n",
    "dataset['Levy'].isnull().sum()"
   ]
  },
  {
   "cell_type": "markdown",
   "metadata": {},
   "source": [
    "# 4.2.2 Dropping unnecessary columns"
   ]
  },
  {
   "cell_type": "markdown",
   "metadata": {},
   "source": [
    "Here, we will drop the columns - ID, Model, Leather interior, Drive wheels, Color from the dataset."
   ]
  },
  {
   "cell_type": "code",
   "execution_count": null,
   "metadata": {
    "execution": {
     "iopub.execute_input": "2022-08-08T18:13:08.131687Z",
     "iopub.status.busy": "2022-08-08T18:13:08.131227Z",
     "iopub.status.idle": "2022-08-08T18:13:08.166235Z",
     "shell.execute_reply": "2022-08-08T18:13:08.164881Z",
     "shell.execute_reply.started": "2022-08-08T18:13:08.131646Z"
    }
   },
   "outputs": [],
   "source": [
    "### Dropping the columns - ID, Manufacturer, Model, Leather interior, Drive wheels, Color\n",
    "\n",
    "dataset.drop(['ID', 'Manufacturer', 'Model', 'Leather interior', 'Drive wheels', 'Color'], axis = 1, inplace = True)\n",
    "dataset"
   ]
  },
  {
   "cell_type": "markdown",
   "metadata": {},
   "source": [
    "# 4.3 Feature Engineering"
   ]
  },
  {
   "cell_type": "markdown",
   "metadata": {},
   "source": [
    "Feature engineering is arguably the most important art in machine learning. It is the process of creating new features from existing features to better represent the underlying problem to the predictive models resulting in improved model accuracy on unseen data.\n",
    "\n",
    "Here, we focus on creating new columns for:\n",
    "\n",
    "1. NewCategory - using the column Category\n",
    "2. NewFuelType - using the column Fuel type\n",
    "3. NewGearbox - using the column Gear box\n",
    "4. NewDoors - using the column Doors\n",
    "5. Age - using the column Prod. year"
   ]
  },
  {
   "cell_type": "markdown",
   "metadata": {},
   "source": [
    "# 4.3.1 NewCategory - using the column Category"
   ]
  },
  {
   "cell_type": "markdown",
   "metadata": {},
   "source": [
    "Here, we will create the NewCategory column such that if the mean price of a category is less than 20000 then it belongs to class 1, else class 2."
   ]
  },
  {
   "cell_type": "code",
   "execution_count": null,
   "metadata": {
    "execution": {
     "iopub.execute_input": "2022-08-08T18:13:08.168579Z",
     "iopub.status.busy": "2022-08-08T18:13:08.168197Z",
     "iopub.status.idle": "2022-08-08T18:13:08.177957Z",
     "shell.execute_reply": "2022-08-08T18:13:08.176416Z",
     "shell.execute_reply.started": "2022-08-08T18:13:08.168545Z"
    }
   },
   "outputs": [],
   "source": [
    "### Seperating the categories into class 1 and 2\n",
    "\n",
    "class_1 = []\n",
    "class_2 = []\n",
    "\n",
    "for index in range(len(mean_price_category)):\n",
    "    if mean_price_category.iloc[index, 1] <= 20000:\n",
    "        class_1.append(mean_price_category.iloc[index, 0])\n",
    "    else:\n",
    "        class_2.append(mean_price_category.iloc[index, 0])\n",
    "        \n",
    "print('Categories with less than 20000 mean price: ', class_1)\n",
    "print('Categories with more than 20000 mean price: ', class_2)"
   ]
  },
  {
   "cell_type": "code",
   "execution_count": null,
   "metadata": {
    "execution": {
     "iopub.execute_input": "2022-08-08T18:13:08.181258Z",
     "iopub.status.busy": "2022-08-08T18:13:08.179858Z",
     "iopub.status.idle": "2022-08-08T18:13:08.202128Z",
     "shell.execute_reply": "2022-08-08T18:13:08.200777Z",
     "shell.execute_reply.started": "2022-08-08T18:13:08.181208Z"
    }
   },
   "outputs": [],
   "source": [
    "### Modifying the Category column in the dataset\n",
    "\n",
    "category_data = dataset['Category']\n",
    "new_category_data = []\n",
    "\n",
    "for value in category_data:\n",
    "    if value in class_1:\n",
    "        new_category_data.append(1)\n",
    "    else:\n",
    "        new_category_data.append(2)\n",
    "        \n",
    "dataset['Category'] = new_category_data"
   ]
  },
  {
   "cell_type": "code",
   "execution_count": null,
   "metadata": {
    "execution": {
     "iopub.execute_input": "2022-08-08T18:13:08.205086Z",
     "iopub.status.busy": "2022-08-08T18:13:08.203895Z",
     "iopub.status.idle": "2022-08-08T18:13:08.238405Z",
     "shell.execute_reply": "2022-08-08T18:13:08.237507Z",
     "shell.execute_reply.started": "2022-08-08T18:13:08.205019Z"
    }
   },
   "outputs": [],
   "source": [
    "### Looking at the modified dataset\n",
    "\n",
    "dataset"
   ]
  },
  {
   "cell_type": "markdown",
   "metadata": {},
   "source": [
    "# 4.3.2 NewFuelType - using the column Fuel type"
   ]
  },
  {
   "cell_type": "markdown",
   "metadata": {},
   "source": [
    "Here, if the fuel type is Hybrid, Hydrogen, Plug-in Hybrid then we rename it to other."
   ]
  },
  {
   "cell_type": "code",
   "execution_count": null,
   "metadata": {
    "execution": {
     "iopub.execute_input": "2022-08-08T18:13:08.240796Z",
     "iopub.status.busy": "2022-08-08T18:13:08.239607Z",
     "iopub.status.idle": "2022-08-08T18:13:08.258504Z",
     "shell.execute_reply": "2022-08-08T18:13:08.2575Z",
     "shell.execute_reply.started": "2022-08-08T18:13:08.240746Z"
    }
   },
   "outputs": [],
   "source": [
    "### Creating the new fuel type data\n",
    "\n",
    "fuel_type_data = dataset['Fuel type']\n",
    "new_fuel_type_data = []\n",
    "\n",
    "for value in fuel_type_data:\n",
    "    if value in {'Hybrid', 'Hydrogen', 'Plug-in Hybrid'}:\n",
    "        new_fuel_type_data.append('Other')\n",
    "    else:\n",
    "        new_fuel_type_data.append(value)\n",
    "\n",
    "set(new_fuel_type_data)"
   ]
  },
  {
   "cell_type": "code",
   "execution_count": null,
   "metadata": {
    "execution": {
     "iopub.execute_input": "2022-08-08T18:13:08.261383Z",
     "iopub.status.busy": "2022-08-08T18:13:08.259779Z",
     "iopub.status.idle": "2022-08-08T18:13:08.27071Z",
     "shell.execute_reply": "2022-08-08T18:13:08.269638Z",
     "shell.execute_reply.started": "2022-08-08T18:13:08.261314Z"
    }
   },
   "outputs": [],
   "source": [
    "### Modifying the Fuel Type column\n",
    "\n",
    "dataset['Fuel type'] = new_fuel_type_data"
   ]
  },
  {
   "cell_type": "code",
   "execution_count": null,
   "metadata": {
    "execution": {
     "iopub.execute_input": "2022-08-08T18:13:08.273244Z",
     "iopub.status.busy": "2022-08-08T18:13:08.272727Z",
     "iopub.status.idle": "2022-08-08T18:13:08.30748Z",
     "shell.execute_reply": "2022-08-08T18:13:08.306118Z",
     "shell.execute_reply.started": "2022-08-08T18:13:08.273198Z"
    }
   },
   "outputs": [],
   "source": [
    "### Looking at the modified dataset\n",
    "\n",
    "dataset"
   ]
  },
  {
   "cell_type": "markdown",
   "metadata": {},
   "source": [
    "# 4.3.3 NewGearbox - using the column Gear box"
   ]
  },
  {
   "cell_type": "markdown",
   "metadata": {},
   "source": [
    "Here, we will divide the column Gear box into 2 classes such that if the Gear box is either Automatic or Variator it belongs to class 1, else it belongs to class 2."
   ]
  },
  {
   "cell_type": "code",
   "execution_count": null,
   "metadata": {
    "execution": {
     "iopub.execute_input": "2022-08-08T18:13:08.310301Z",
     "iopub.status.busy": "2022-08-08T18:13:08.309529Z",
     "iopub.status.idle": "2022-08-08T18:13:08.3274Z",
     "shell.execute_reply": "2022-08-08T18:13:08.326279Z",
     "shell.execute_reply.started": "2022-08-08T18:13:08.310254Z"
    }
   },
   "outputs": [],
   "source": [
    "### Seperating the categories into class 1 and 2\n",
    "\n",
    "gear_box_data = dataset['Gear box type']\n",
    "new_gear_box_data = []\n",
    "\n",
    "for value in gear_box_data:\n",
    "    if value in {'Automatic', 'Variator'}:\n",
    "        new_gear_box_data.append(1)\n",
    "    else:\n",
    "        new_gear_box_data.append(2)\n",
    "\n",
    "set(new_gear_box_data)"
   ]
  },
  {
   "cell_type": "code",
   "execution_count": null,
   "metadata": {
    "execution": {
     "iopub.execute_input": "2022-08-08T18:13:08.330355Z",
     "iopub.status.busy": "2022-08-08T18:13:08.329275Z",
     "iopub.status.idle": "2022-08-08T18:13:08.343318Z",
     "shell.execute_reply": "2022-08-08T18:13:08.341716Z",
     "shell.execute_reply.started": "2022-08-08T18:13:08.330306Z"
    }
   },
   "outputs": [],
   "source": [
    "### Modifying the Gear box type column\n",
    "\n",
    "dataset['Gear box type'] = new_gear_box_data"
   ]
  },
  {
   "cell_type": "code",
   "execution_count": null,
   "metadata": {
    "execution": {
     "iopub.execute_input": "2022-08-08T18:13:08.345881Z",
     "iopub.status.busy": "2022-08-08T18:13:08.345183Z",
     "iopub.status.idle": "2022-08-08T18:13:08.380976Z",
     "shell.execute_reply": "2022-08-08T18:13:08.380052Z",
     "shell.execute_reply.started": "2022-08-08T18:13:08.345839Z"
    }
   },
   "outputs": [],
   "source": [
    "### Looking at the modified dataset\n",
    "\n",
    "dataset"
   ]
  },
  {
   "cell_type": "markdown",
   "metadata": {},
   "source": [
    "# 4.3.4 NewDoors - using the column Doors"
   ]
  },
  {
   "cell_type": "markdown",
   "metadata": {},
   "source": [
    "Here, we will modify the column Doors such that if the value is 04-May it is changed to 4-5, 02-Mar then it is changed to 2-3 or else keep it as it is."
   ]
  },
  {
   "cell_type": "code",
   "execution_count": null,
   "metadata": {
    "execution": {
     "iopub.execute_input": "2022-08-08T18:13:08.382943Z",
     "iopub.status.busy": "2022-08-08T18:13:08.38238Z",
     "iopub.status.idle": "2022-08-08T18:13:08.397628Z",
     "shell.execute_reply": "2022-08-08T18:13:08.396545Z",
     "shell.execute_reply.started": "2022-08-08T18:13:08.382893Z"
    }
   },
   "outputs": [],
   "source": [
    "### Creating the new Doors data\n",
    "\n",
    "doors_data = dataset['Doors']\n",
    "new_doors_data = []\n",
    "\n",
    "for value in doors_data:\n",
    "    if value == '04-May':\n",
    "        new_doors_data.append('4-5')\n",
    "    elif value == '02-Mar':\n",
    "        new_doors_data.append('2-3')\n",
    "    else:\n",
    "        new_doors_data.append(value)\n",
    "\n",
    "set(new_doors_data)"
   ]
  },
  {
   "cell_type": "code",
   "execution_count": null,
   "metadata": {
    "execution": {
     "iopub.execute_input": "2022-08-08T18:13:08.400214Z",
     "iopub.status.busy": "2022-08-08T18:13:08.399564Z",
     "iopub.status.idle": "2022-08-08T18:13:08.407613Z",
     "shell.execute_reply": "2022-08-08T18:13:08.406679Z",
     "shell.execute_reply.started": "2022-08-08T18:13:08.40018Z"
    }
   },
   "outputs": [],
   "source": [
    "### Modifying the Doors column\n",
    "\n",
    "dataset['Doors'] = new_doors_data"
   ]
  },
  {
   "cell_type": "code",
   "execution_count": null,
   "metadata": {
    "execution": {
     "iopub.execute_input": "2022-08-08T18:13:08.409961Z",
     "iopub.status.busy": "2022-08-08T18:13:08.409396Z",
     "iopub.status.idle": "2022-08-08T18:13:08.441518Z",
     "shell.execute_reply": "2022-08-08T18:13:08.440507Z",
     "shell.execute_reply.started": "2022-08-08T18:13:08.409894Z"
    }
   },
   "outputs": [],
   "source": [
    "### Looking at the modified dataset\n",
    "\n",
    "dataset"
   ]
  },
  {
   "cell_type": "markdown",
   "metadata": {},
   "source": [
    "# 4.3.5 Age - using the column Prod. year"
   ]
  },
  {
   "cell_type": "markdown",
   "metadata": {},
   "source": [
    "Here, we will use the column Prod. year to create Age using the formula 2022 - value."
   ]
  },
  {
   "cell_type": "code",
   "execution_count": null,
   "metadata": {
    "execution": {
     "iopub.execute_input": "2022-08-08T18:13:08.444469Z",
     "iopub.status.busy": "2022-08-08T18:13:08.444066Z",
     "iopub.status.idle": "2022-08-08T18:13:08.46017Z",
     "shell.execute_reply": "2022-08-08T18:13:08.458621Z",
     "shell.execute_reply.started": "2022-08-08T18:13:08.444426Z"
    }
   },
   "outputs": [],
   "source": [
    "### Creating the Age data\n",
    "\n",
    "year_data = dataset['Prod. year']\n",
    "age_data = []\n",
    "\n",
    "for value in year_data:\n",
    "    age_data.append(2022 - value)\n",
    "    \n",
    "len(set(age_data))"
   ]
  },
  {
   "cell_type": "code",
   "execution_count": null,
   "metadata": {
    "execution": {
     "iopub.execute_input": "2022-08-08T18:13:08.463053Z",
     "iopub.status.busy": "2022-08-08T18:13:08.462509Z",
     "iopub.status.idle": "2022-08-08T18:13:08.475494Z",
     "shell.execute_reply": "2022-08-08T18:13:08.473984Z",
     "shell.execute_reply.started": "2022-08-08T18:13:08.463Z"
    }
   },
   "outputs": [],
   "source": [
    "### Creating the Age column\n",
    "\n",
    "dataset['Age'] = age_data"
   ]
  },
  {
   "cell_type": "code",
   "execution_count": null,
   "metadata": {
    "execution": {
     "iopub.execute_input": "2022-08-08T18:13:08.478401Z",
     "iopub.status.busy": "2022-08-08T18:13:08.477043Z",
     "iopub.status.idle": "2022-08-08T18:13:08.490734Z",
     "shell.execute_reply": "2022-08-08T18:13:08.489817Z",
     "shell.execute_reply.started": "2022-08-08T18:13:08.478347Z"
    }
   },
   "outputs": [],
   "source": [
    "### Removing the Prod. year column\n",
    "\n",
    "dataset.drop(['Prod. year'], axis = 1, inplace = True)"
   ]
  },
  {
   "cell_type": "code",
   "execution_count": null,
   "metadata": {
    "execution": {
     "iopub.execute_input": "2022-08-08T18:13:08.493761Z",
     "iopub.status.busy": "2022-08-08T18:13:08.49265Z",
     "iopub.status.idle": "2022-08-08T18:13:08.524255Z",
     "shell.execute_reply": "2022-08-08T18:13:08.522929Z",
     "shell.execute_reply.started": "2022-08-08T18:13:08.493713Z"
    }
   },
   "outputs": [],
   "source": [
    "### Looking at the modified dataset\n",
    "\n",
    "dataset"
   ]
  },
  {
   "cell_type": "markdown",
   "metadata": {},
   "source": [
    "# 4.4 Data Transformation"
   ]
  },
  {
   "cell_type": "markdown",
   "metadata": {},
   "source": [
    "In this section, we will remove the skewness present in the columns - Price, Levy, Age, Mileage, Engine volume by using a Box-Cox transformation on the data. Then, we will normalize all the numerical columns apart from the Target using MinMax Normalization."
   ]
  },
  {
   "cell_type": "markdown",
   "metadata": {},
   "source": [
    "# 4.4.1 Box Cox transforming the column - Price"
   ]
  },
  {
   "cell_type": "code",
   "execution_count": null,
   "metadata": {
    "execution": {
     "iopub.execute_input": "2022-08-08T18:13:08.527267Z",
     "iopub.status.busy": "2022-08-08T18:13:08.526479Z",
     "iopub.status.idle": "2022-08-08T18:13:09.011501Z",
     "shell.execute_reply": "2022-08-08T18:13:09.010282Z",
     "shell.execute_reply.started": "2022-08-08T18:13:08.527149Z"
    }
   },
   "outputs": [],
   "source": [
    "### Understanding the distribution of the column - Price\n",
    "\n",
    "sns.distplot(dataset['Price'], label = 'Skewness: %.2f'%(dataset['Price'].skew()))\n",
    "plt.legend(loc = 'best')\n",
    "plt.title('Distribution of the column - Price')"
   ]
  },
  {
   "cell_type": "code",
   "execution_count": null,
   "metadata": {
    "execution": {
     "iopub.execute_input": "2022-08-08T18:13:09.01411Z",
     "iopub.status.busy": "2022-08-08T18:13:09.01345Z",
     "iopub.status.idle": "2022-08-08T18:13:09.536217Z",
     "shell.execute_reply": "2022-08-08T18:13:09.53483Z",
     "shell.execute_reply.started": "2022-08-08T18:13:09.014074Z"
    }
   },
   "outputs": [],
   "source": [
    "### Understanding the distribution of the data Box_Cox(Price)\n",
    "\n",
    "price_data = [1 if value == 0 else value for value in dataset['Price']]\n",
    "\n",
    "modified_price, _ = stats.boxcox(price_data)\n",
    "dataset['Price'] = modified_price\n",
    "\n",
    "sns.distplot(dataset['Price'], label = 'Skewness: %.2f'%(dataset['Price'].skew()))\n",
    "plt.legend(loc = 'best')\n",
    "plt.title('Distribution of the column - Price')"
   ]
  },
  {
   "cell_type": "markdown",
   "metadata": {},
   "source": [
    "# 4.4.2 Box Cox transforming the column - Levy"
   ]
  },
  {
   "cell_type": "code",
   "execution_count": null,
   "metadata": {
    "execution": {
     "iopub.execute_input": "2022-08-08T18:13:09.538982Z",
     "iopub.status.busy": "2022-08-08T18:13:09.53837Z",
     "iopub.status.idle": "2022-08-08T18:13:10.028514Z",
     "shell.execute_reply": "2022-08-08T18:13:10.027562Z",
     "shell.execute_reply.started": "2022-08-08T18:13:09.538926Z"
    }
   },
   "outputs": [],
   "source": [
    "### Understanding the distribution of the column - Levy\n",
    "\n",
    "sns.distplot(dataset['Levy'], label = 'Skewness: %.2f'%(dataset['Levy'].skew()))\n",
    "plt.legend(loc = 'best')\n",
    "plt.title('Distribution of the column - Levy')"
   ]
  },
  {
   "cell_type": "code",
   "execution_count": null,
   "metadata": {
    "execution": {
     "iopub.execute_input": "2022-08-08T18:13:10.031411Z",
     "iopub.status.busy": "2022-08-08T18:13:10.029957Z",
     "iopub.status.idle": "2022-08-08T18:13:10.553982Z",
     "shell.execute_reply": "2022-08-08T18:13:10.552715Z",
     "shell.execute_reply.started": "2022-08-08T18:13:10.031365Z"
    }
   },
   "outputs": [],
   "source": [
    "### Understanding the distribution of the data Box_Cox(Levy)\n",
    "\n",
    "levy_data = [1 if value == 0 else value for value in dataset['Levy']]\n",
    "\n",
    "modified_levy, _ = stats.boxcox(levy_data)\n",
    "dataset['Levy'] = modified_levy\n",
    "\n",
    "sns.distplot(dataset['Levy'], label = 'Skewness: %.2f'%(dataset['Levy'].skew()))\n",
    "plt.legend(loc = 'best')\n",
    "plt.title('Distribution of the column - Levy')"
   ]
  },
  {
   "cell_type": "markdown",
   "metadata": {},
   "source": [
    "# 4.4.3 Box Cox transforming the column - Age"
   ]
  },
  {
   "cell_type": "code",
   "execution_count": null,
   "metadata": {
    "execution": {
     "iopub.execute_input": "2022-08-08T18:13:10.556161Z",
     "iopub.status.busy": "2022-08-08T18:13:10.555557Z",
     "iopub.status.idle": "2022-08-08T18:13:10.986251Z",
     "shell.execute_reply": "2022-08-08T18:13:10.984944Z",
     "shell.execute_reply.started": "2022-08-08T18:13:10.556119Z"
    }
   },
   "outputs": [],
   "source": [
    "### Understanding the distribution of the column - Age\n",
    "\n",
    "sns.distplot(dataset['Age'], label = 'Skewness: %.2f'%(dataset['Age'].skew()))\n",
    "plt.legend(loc = 'best')\n",
    "plt.title('Distribution of the column - Age')"
   ]
  },
  {
   "cell_type": "code",
   "execution_count": null,
   "metadata": {
    "execution": {
     "iopub.execute_input": "2022-08-08T18:13:10.989893Z",
     "iopub.status.busy": "2022-08-08T18:13:10.989336Z",
     "iopub.status.idle": "2022-08-08T18:13:11.468551Z",
     "shell.execute_reply": "2022-08-08T18:13:11.467603Z",
     "shell.execute_reply.started": "2022-08-08T18:13:10.989843Z"
    }
   },
   "outputs": [],
   "source": [
    "### Understanding the distribution of the data Box_Cox(Age)\n",
    "\n",
    "age_data = [1 if value == 0 else value for value in dataset['Age']]\n",
    "\n",
    "modified_age, _ = stats.boxcox(age_data)\n",
    "dataset['Age'] = modified_age\n",
    "\n",
    "sns.distplot(dataset['Age'], label = 'Skewness: %.2f'%(dataset['Age'].skew()))\n",
    "plt.legend(loc = 'best')\n",
    "plt.title('Distribution of the column - Age')"
   ]
  },
  {
   "cell_type": "markdown",
   "metadata": {},
   "source": [
    "# 4.4.4 Box Cox transforming the column - Mileage"
   ]
  },
  {
   "cell_type": "code",
   "execution_count": null,
   "metadata": {
    "execution": {
     "iopub.execute_input": "2022-08-08T18:13:11.47158Z",
     "iopub.status.busy": "2022-08-08T18:13:11.470214Z",
     "iopub.status.idle": "2022-08-08T18:13:11.914575Z",
     "shell.execute_reply": "2022-08-08T18:13:11.913146Z",
     "shell.execute_reply.started": "2022-08-08T18:13:11.471526Z"
    }
   },
   "outputs": [],
   "source": [
    "### Understanding the distribution of the column - Mileage\n",
    "\n",
    "sns.distplot(dataset['Mileage'], label = 'Skewness: %.2f'%(dataset['Mileage'].skew()))\n",
    "plt.legend(loc = 'best')\n",
    "plt.title('Distribution of the column - Mileage')"
   ]
  },
  {
   "cell_type": "code",
   "execution_count": null,
   "metadata": {
    "execution": {
     "iopub.execute_input": "2022-08-08T18:13:11.917695Z",
     "iopub.status.busy": "2022-08-08T18:13:11.917127Z",
     "iopub.status.idle": "2022-08-08T18:13:12.442255Z",
     "shell.execute_reply": "2022-08-08T18:13:12.440681Z",
     "shell.execute_reply.started": "2022-08-08T18:13:11.917643Z"
    }
   },
   "outputs": [],
   "source": [
    "### Understanding the distribution of the data Box_Cox(Mileage)\n",
    "\n",
    "mileage_data = [1 if value == 0 else value for value in dataset['Mileage']]\n",
    "\n",
    "modified_mileage, _ = stats.boxcox(mileage_data)\n",
    "dataset['Mileage'] = modified_mileage\n",
    "\n",
    "sns.distplot(dataset['Mileage'], label = 'Skewness: %.2f'%(dataset['Mileage'].skew()))\n",
    "plt.legend(loc = 'best')\n",
    "plt.title('Distribution of the column - Mileage')"
   ]
  },
  {
   "cell_type": "markdown",
   "metadata": {},
   "source": [
    "# 4.4.5 Box Cox transforming the column - Engine volume"
   ]
  },
  {
   "cell_type": "code",
   "execution_count": null,
   "metadata": {
    "execution": {
     "iopub.execute_input": "2022-08-08T18:13:12.446396Z",
     "iopub.status.busy": "2022-08-08T18:13:12.445158Z",
     "iopub.status.idle": "2022-08-08T18:13:12.927524Z",
     "shell.execute_reply": "2022-08-08T18:13:12.926293Z",
     "shell.execute_reply.started": "2022-08-08T18:13:12.446349Z"
    }
   },
   "outputs": [],
   "source": [
    "### Understanding the distribution of the column - Engine volume\n",
    "\n",
    "sns.distplot(dataset['Engine volume'], label = 'Skewness: %.2f'%(dataset['Engine volume'].skew()))\n",
    "plt.legend(loc = 'best')\n",
    "plt.title('Distribution of the column - Engine volume')"
   ]
  },
  {
   "cell_type": "code",
   "execution_count": null,
   "metadata": {
    "execution": {
     "iopub.execute_input": "2022-08-08T18:13:12.931822Z",
     "iopub.status.busy": "2022-08-08T18:13:12.930265Z",
     "iopub.status.idle": "2022-08-08T18:13:13.458946Z",
     "shell.execute_reply": "2022-08-08T18:13:13.457229Z",
     "shell.execute_reply.started": "2022-08-08T18:13:12.931771Z"
    }
   },
   "outputs": [],
   "source": [
    "### Understanding the distribution of the data Box_Cox(Engine volume)\n",
    "\n",
    "engine_data = [1 if value == 0 else value for value in dataset['Engine volume']]\n",
    "\n",
    "modified_engine, _ = stats.boxcox(engine_data)\n",
    "dataset['Engine volume'] = modified_engine\n",
    "\n",
    "sns.distplot(dataset['Engine volume'], label = 'Skewness: %.2f'%(dataset['Engine volume'].skew()))\n",
    "plt.legend(loc = 'best')\n",
    "plt.title('Distribution of the column - Engine volume')"
   ]
  },
  {
   "cell_type": "markdown",
   "metadata": {},
   "source": [
    "# 4.4.6 Normalizing the numerical columns"
   ]
  },
  {
   "cell_type": "code",
   "execution_count": null,
   "metadata": {
    "execution": {
     "iopub.execute_input": "2022-08-08T18:13:13.461611Z",
     "iopub.status.busy": "2022-08-08T18:13:13.461141Z",
     "iopub.status.idle": "2022-08-08T18:13:13.544962Z",
     "shell.execute_reply": "2022-08-08T18:13:13.543487Z",
     "shell.execute_reply.started": "2022-08-08T18:13:13.461571Z"
    }
   },
   "outputs": [],
   "source": [
    "### A function to normalize numerical columns\n",
    "\n",
    "def normalize_columns(dataframe, column):\n",
    "    data = dataframe[column]\n",
    "    mini = min(data)\n",
    "    maxi = max(data)\n",
    "    \n",
    "    new_data = []\n",
    "    for value in data:\n",
    "        new_data.append((value - mini)/(maxi - mini))\n",
    "    \n",
    "    dataframe[column] = new_data\n",
    "\n",
    "numerical_columns = ['Levy', 'Engine volume', 'Mileage', 'Cylinders', 'Airbags', 'Age']\n",
    "for each_column in numerical_columns:\n",
    "    normalize_columns(dataset, each_column)"
   ]
  },
  {
   "cell_type": "code",
   "execution_count": null,
   "metadata": {
    "execution": {
     "iopub.execute_input": "2022-08-08T18:13:13.547593Z",
     "iopub.status.busy": "2022-08-08T18:13:13.547186Z",
     "iopub.status.idle": "2022-08-08T18:13:13.577175Z",
     "shell.execute_reply": "2022-08-08T18:13:13.575709Z",
     "shell.execute_reply.started": "2022-08-08T18:13:13.547558Z"
    }
   },
   "outputs": [],
   "source": [
    "### Looking at the sample records of the dataset\n",
    "\n",
    "dataset"
   ]
  },
  {
   "cell_type": "markdown",
   "metadata": {},
   "source": [
    "# 4.5 Feature Encoding"
   ]
  },
  {
   "cell_type": "markdown",
   "metadata": {},
   "source": [
    "Feature encoding is the process of turning categorical data in a dataset into numerical data. It is essential that we perform feature encoding because most machine learning models can only interpret numerical data and not data in text form.\n",
    "\n",
    "Here, we will use One Hot Encoding for the columns - Category, Fuel type, Gear box type, Doors, Wheel"
   ]
  },
  {
   "cell_type": "code",
   "execution_count": null,
   "metadata": {
    "execution": {
     "iopub.execute_input": "2022-08-08T18:13:13.579962Z",
     "iopub.status.busy": "2022-08-08T18:13:13.578753Z",
     "iopub.status.idle": "2022-08-08T18:13:13.629495Z",
     "shell.execute_reply": "2022-08-08T18:13:13.627987Z",
     "shell.execute_reply.started": "2022-08-08T18:13:13.579881Z"
    }
   },
   "outputs": [],
   "source": [
    "### One Hot Encoding the columns - Category, Fuel type, Gear box type, Doors, Wheel of the dataset\n",
    "\n",
    "encoded_dataset = pd.get_dummies(data = dataset, columns = ['Category', 'Fuel type', 'Gear box type', 'Doors', 'Wheel'])\n",
    "encoded_dataset"
   ]
  },
  {
   "cell_type": "code",
   "execution_count": null,
   "metadata": {
    "execution": {
     "iopub.execute_input": "2022-08-08T18:13:13.631372Z",
     "iopub.status.busy": "2022-08-08T18:13:13.631011Z",
     "iopub.status.idle": "2022-08-08T18:13:13.668883Z",
     "shell.execute_reply": "2022-08-08T18:13:13.667296Z",
     "shell.execute_reply.started": "2022-08-08T18:13:13.63134Z"
    }
   },
   "outputs": [],
   "source": [
    "### Create the column - Target using Price\n",
    "\n",
    "target_data = encoded_dataset['Price']\n",
    "encoded_dataset['Target'] = target_data\n",
    "\n",
    "### Dropping the column - Price\n",
    "\n",
    "encoded_dataset.drop(['Price'], axis = 1, inplace = True)\n",
    "encoded_dataset"
   ]
  },
  {
   "cell_type": "markdown",
   "metadata": {},
   "source": [
    "# 4.6 Feature Selection"
   ]
  },
  {
   "cell_type": "markdown",
   "metadata": {},
   "source": [
    "Feature selection is the process of reducing the number of input variables when developing a predictive model. It is desirable to reduce the number of input variables to both reduce the computational cost of modeling and, in some cases, to improve the performance of the model."
   ]
  },
  {
   "cell_type": "markdown",
   "metadata": {},
   "source": [
    "# 4.6.1 Plotting the correlation matrix for the numerical columns"
   ]
  },
  {
   "cell_type": "code",
   "execution_count": null,
   "metadata": {
    "execution": {
     "iopub.execute_input": "2022-08-08T18:13:13.670962Z",
     "iopub.status.busy": "2022-08-08T18:13:13.670539Z",
     "iopub.status.idle": "2022-08-08T18:13:13.69361Z",
     "shell.execute_reply": "2022-08-08T18:13:13.692065Z",
     "shell.execute_reply.started": "2022-08-08T18:13:13.670926Z"
    }
   },
   "outputs": [],
   "source": [
    "### Creating a filter_dataset\n",
    "\n",
    "filter_dataset = encoded_dataset[['Levy', 'Engine volume', 'Mileage', 'Cylinders', 'Airbags', 'Age']]\n",
    "filter_dataset"
   ]
  },
  {
   "cell_type": "code",
   "execution_count": null,
   "metadata": {
    "execution": {
     "iopub.execute_input": "2022-08-08T18:13:13.696968Z",
     "iopub.status.busy": "2022-08-08T18:13:13.69583Z",
     "iopub.status.idle": "2022-08-08T18:13:14.156535Z",
     "shell.execute_reply": "2022-08-08T18:13:14.154971Z",
     "shell.execute_reply.started": "2022-08-08T18:13:13.696887Z"
    }
   },
   "outputs": [],
   "source": [
    "### Plotting the correlation between various columns of the filter_dataset\n",
    "\n",
    "plt.figure(figsize = (6, 6))\n",
    "heatmap = sns.heatmap(filter_dataset.corr(), vmin = -1, vmax = 1, annot = True)\n",
    "heatmap.set_title('Correlation Heatmap', fontdict = {'fontsize' : 12}, pad = 12)"
   ]
  },
  {
   "cell_type": "markdown",
   "metadata": {},
   "source": [
    "# 4.6.2 Removing the columns that cause multicollinearity using VIF"
   ]
  },
  {
   "cell_type": "code",
   "execution_count": null,
   "metadata": {
    "execution": {
     "iopub.execute_input": "2022-08-08T18:13:14.158493Z",
     "iopub.status.busy": "2022-08-08T18:13:14.158133Z",
     "iopub.status.idle": "2022-08-08T18:13:14.235215Z",
     "shell.execute_reply": "2022-08-08T18:13:14.233877Z",
     "shell.execute_reply.started": "2022-08-08T18:13:14.15846Z"
    }
   },
   "outputs": [],
   "source": [
    "### Detecting the columns that cause multicollinearity using VIF\n",
    "\n",
    "names = ['Levy', 'Engine volume', 'Mileage', 'Cylinders', 'Airbags', 'Age']\n",
    "\n",
    "for i in range(len(names)):\n",
    "    y = filter_dataset.iloc[:, filter_dataset.columns == names[i]].values\n",
    "    x = filter_dataset.iloc[:, filter_dataset.columns != names[i]].values\n",
    "    x = sm.add_constant(x)\n",
    "    model = sm.OLS(y, x)\n",
    "    results = model.fit()\n",
    "    \n",
    "    rsq = results.rsquared\n",
    "    vif = round(1 / (1 - rsq), 2)\n",
    "    print(\n",
    "        \"R Square value of {} column is {} keeping all other columns as features\".format(\n",
    "            names[i], (round(rsq, 2))\n",
    "        )\n",
    "    )\n",
    "    print(\n",
    "        \"Variance Inflation Factor of {} column is {} \\n\".format(\n",
    "            names[i], vif)\n",
    "        )"
   ]
  },
  {
   "cell_type": "markdown",
   "metadata": {},
   "source": [
    "Since there is no column with a VIF of greater than 10, we will keep all the columns. Now our datasets are ready to modelling."
   ]
  },
  {
   "cell_type": "markdown",
   "metadata": {},
   "source": [
    "# 5. Modelling"
   ]
  },
  {
   "cell_type": "markdown",
   "metadata": {},
   "source": [
    "Scikit-learn is one of the most popular libraries for machine learning in Python and that is what we will use in the modelling part of this project.\n",
    "\n",
    "Since Car Price Prediction is a regression problem, we will need to use regression models, also known as regressors, to train on our model to make predictions. I highly recommend checking out the scikit-learn documentation for more information on the different machine learning models available in their library. I have chosen the following regression models for the job:\n",
    "\n",
    "1. Multi Linear Regression\n",
    "2. Lasso Regression\n",
    "3. Ridge Regression\n",
    "4. Support Vector Regression\n",
    "5. Decision Tree regression\n",
    "6. Random Forest Regression\n",
    "7. Stacking Regression\n",
    "8. XGBoost Regression \n",
    "\n",
    "In this section of the notebook, I will fit the models to the training set as outlined above and evaluate their Root Mean Squared Error (RMSE), R-squared at making predictions. Then, we will select the best model based on those values."
   ]
  },
  {
   "cell_type": "markdown",
   "metadata": {},
   "source": [
    "# 5.1 Splitting the data to Training and Test sets"
   ]
  },
  {
   "cell_type": "markdown",
   "metadata": {},
   "source": [
    "Here, we will split the training data into X_train, X_test, Y_train, and Y_test so that they can be fed to the machine learning models that are used in the next section. Then the model with the best performance will be used to predict the result on the given test dataset."
   ]
  },
  {
   "cell_type": "code",
   "execution_count": null,
   "metadata": {
    "execution": {
     "iopub.execute_input": "2022-08-08T18:13:14.238285Z",
     "iopub.status.busy": "2022-08-08T18:13:14.236783Z",
     "iopub.status.idle": "2022-08-08T18:13:14.249639Z",
     "shell.execute_reply": "2022-08-08T18:13:14.247472Z",
     "shell.execute_reply.started": "2022-08-08T18:13:14.23823Z"
    }
   },
   "outputs": [],
   "source": [
    "### Splitting the dataset to the matrices X and Y\n",
    "\n",
    "X = encoded_dataset.iloc[:, : -1].values\n",
    "Y = encoded_dataset.iloc[:, -1].values"
   ]
  },
  {
   "cell_type": "code",
   "execution_count": null,
   "metadata": {
    "execution": {
     "iopub.execute_input": "2022-08-08T18:13:14.253862Z",
     "iopub.status.busy": "2022-08-08T18:13:14.251969Z",
     "iopub.status.idle": "2022-08-08T18:13:14.267229Z",
     "shell.execute_reply": "2022-08-08T18:13:14.26489Z",
     "shell.execute_reply.started": "2022-08-08T18:13:14.253808Z"
    }
   },
   "outputs": [],
   "source": [
    "### Looking at the new training data - X\n",
    "\n",
    "X"
   ]
  },
  {
   "cell_type": "code",
   "execution_count": null,
   "metadata": {
    "execution": {
     "iopub.execute_input": "2022-08-08T18:13:14.271576Z",
     "iopub.status.busy": "2022-08-08T18:13:14.26964Z",
     "iopub.status.idle": "2022-08-08T18:13:14.284867Z",
     "shell.execute_reply": "2022-08-08T18:13:14.282793Z",
     "shell.execute_reply.started": "2022-08-08T18:13:14.271513Z"
    }
   },
   "outputs": [],
   "source": [
    "### Looking at the new test data - Y\n",
    "\n",
    "Y"
   ]
  },
  {
   "cell_type": "code",
   "execution_count": null,
   "metadata": {
    "execution": {
     "iopub.execute_input": "2022-08-08T18:13:14.289418Z",
     "iopub.status.busy": "2022-08-08T18:13:14.287958Z",
     "iopub.status.idle": "2022-08-08T18:13:14.309676Z",
     "shell.execute_reply": "2022-08-08T18:13:14.307693Z",
     "shell.execute_reply.started": "2022-08-08T18:13:14.289337Z"
    }
   },
   "outputs": [],
   "source": [
    "### Dividing the dataset into train and test in the ratio of 80 : 20\n",
    "\n",
    "X_train, X_test, Y_train, Y_test = train_test_split(X, Y, test_size = 0.2, random_state = 27, shuffle = True)"
   ]
  },
  {
   "cell_type": "code",
   "execution_count": null,
   "metadata": {
    "execution": {
     "iopub.execute_input": "2022-08-08T18:13:14.313801Z",
     "iopub.status.busy": "2022-08-08T18:13:14.312624Z",
     "iopub.status.idle": "2022-08-08T18:13:14.326717Z",
     "shell.execute_reply": "2022-08-08T18:13:14.32478Z",
     "shell.execute_reply.started": "2022-08-08T18:13:14.313731Z"
    }
   },
   "outputs": [],
   "source": [
    "X_train"
   ]
  },
  {
   "cell_type": "code",
   "execution_count": null,
   "metadata": {
    "execution": {
     "iopub.execute_input": "2022-08-08T18:13:14.331328Z",
     "iopub.status.busy": "2022-08-08T18:13:14.329997Z",
     "iopub.status.idle": "2022-08-08T18:13:14.343936Z",
     "shell.execute_reply": "2022-08-08T18:13:14.342244Z",
     "shell.execute_reply.started": "2022-08-08T18:13:14.331262Z"
    }
   },
   "outputs": [],
   "source": [
    "X_test"
   ]
  },
  {
   "cell_type": "code",
   "execution_count": null,
   "metadata": {
    "execution": {
     "iopub.execute_input": "2022-08-08T18:13:14.348616Z",
     "iopub.status.busy": "2022-08-08T18:13:14.347327Z",
     "iopub.status.idle": "2022-08-08T18:13:14.358037Z",
     "shell.execute_reply": "2022-08-08T18:13:14.357023Z",
     "shell.execute_reply.started": "2022-08-08T18:13:14.348548Z"
    }
   },
   "outputs": [],
   "source": [
    "Y_train"
   ]
  },
  {
   "cell_type": "code",
   "execution_count": null,
   "metadata": {
    "execution": {
     "iopub.execute_input": "2022-08-08T18:13:14.360519Z",
     "iopub.status.busy": "2022-08-08T18:13:14.359441Z",
     "iopub.status.idle": "2022-08-08T18:13:14.371309Z",
     "shell.execute_reply": "2022-08-08T18:13:14.370351Z",
     "shell.execute_reply.started": "2022-08-08T18:13:14.360482Z"
    }
   },
   "outputs": [],
   "source": [
    "Y_test"
   ]
  },
  {
   "cell_type": "markdown",
   "metadata": {},
   "source": [
    "Now, we apply regressors using the above data."
   ]
  },
  {
   "cell_type": "markdown",
   "metadata": {},
   "source": [
    "# 5.2 Fit the model"
   ]
  },
  {
   "cell_type": "markdown",
   "metadata": {},
   "source": [
    "In this section, we use various machine learning models to predict the results for our test data (X_test). We will store the model and its corresponding Root Mean Squared Error and Adjusted R-squared so that we can tabulate them later for choosing the best model."
   ]
  },
  {
   "cell_type": "code",
   "execution_count": null,
   "metadata": {
    "execution": {
     "iopub.execute_input": "2022-08-08T18:13:14.373203Z",
     "iopub.status.busy": "2022-08-08T18:13:14.372788Z",
     "iopub.status.idle": "2022-08-08T18:13:14.384897Z",
     "shell.execute_reply": "2022-08-08T18:13:14.383293Z",
     "shell.execute_reply.started": "2022-08-08T18:13:14.37317Z"
    }
   },
   "outputs": [],
   "source": [
    "### Dictionary to store model and its rmse\n",
    "\n",
    "model_rmse = OrderedDict()"
   ]
  },
  {
   "cell_type": "code",
   "execution_count": null,
   "metadata": {
    "execution": {
     "iopub.execute_input": "2022-08-08T18:13:14.387935Z",
     "iopub.status.busy": "2022-08-08T18:13:14.3874Z",
     "iopub.status.idle": "2022-08-08T18:13:14.39641Z",
     "shell.execute_reply": "2022-08-08T18:13:14.395001Z",
     "shell.execute_reply.started": "2022-08-08T18:13:14.387864Z"
    }
   },
   "outputs": [],
   "source": [
    "### Dictionary to store model and its r-squared\n",
    "\n",
    "model_r2 = OrderedDict()"
   ]
  },
  {
   "cell_type": "markdown",
   "metadata": {},
   "source": [
    "# 5.2.1 Applying Multi Linear Regression"
   ]
  },
  {
   "cell_type": "code",
   "execution_count": null,
   "metadata": {
    "execution": {
     "iopub.execute_input": "2022-08-08T18:13:14.399529Z",
     "iopub.status.busy": "2022-08-08T18:13:14.398273Z",
     "iopub.status.idle": "2022-08-08T18:13:14.430819Z",
     "shell.execute_reply": "2022-08-08T18:13:14.429217Z",
     "shell.execute_reply.started": "2022-08-08T18:13:14.399452Z"
    }
   },
   "outputs": [],
   "source": [
    "### Training the Multi Linear Regression model on the Training set\n",
    "\n",
    "linear_regressor = LinearRegression()\n",
    "linear_regressor.fit(X_train, Y_train)"
   ]
  },
  {
   "cell_type": "code",
   "execution_count": null,
   "metadata": {
    "execution": {
     "iopub.execute_input": "2022-08-08T18:13:14.43485Z",
     "iopub.status.busy": "2022-08-08T18:13:14.433106Z",
     "iopub.status.idle": "2022-08-08T18:13:14.453314Z",
     "shell.execute_reply": "2022-08-08T18:13:14.450931Z",
     "shell.execute_reply.started": "2022-08-08T18:13:14.434781Z"
    }
   },
   "outputs": [],
   "source": [
    "### Predicting the Test set results\n",
    "\n",
    "Y_pred = linear_regressor.predict(X_test)"
   ]
  },
  {
   "cell_type": "code",
   "execution_count": null,
   "metadata": {
    "execution": {
     "iopub.execute_input": "2022-08-08T18:13:14.45828Z",
     "iopub.status.busy": "2022-08-08T18:13:14.455955Z",
     "iopub.status.idle": "2022-08-08T18:13:14.486539Z",
     "shell.execute_reply": "2022-08-08T18:13:14.483806Z",
     "shell.execute_reply.started": "2022-08-08T18:13:14.458212Z"
    }
   },
   "outputs": [],
   "source": [
    "### Calculating RMSE and Adjusted R-squared for the model\n",
    "\n",
    "mse = round(mean_squared_error(Y_test, Y_pred), 3)\n",
    "rmse = round(sqrt(mse), 3)\n",
    "\n",
    "r2_value = round(r2_score(Y_test, Y_pred), 3)\n",
    "\n",
    "model_rmse['Multi Linear Regression'] = rmse\n",
    "model_r2['Multi Linear Regression'] = r2_value\n",
    "\n",
    "print('Root Mean Squared Error of the model is : {}'.format(rmse))\n",
    "print('R-squared value of the model is : {}'.format(r2_value))"
   ]
  },
  {
   "cell_type": "markdown",
   "metadata": {},
   "source": [
    "# 5.2.2 Applying Lasso Regression"
   ]
  },
  {
   "cell_type": "code",
   "execution_count": null,
   "metadata": {
    "execution": {
     "iopub.execute_input": "2022-08-08T18:13:14.493102Z",
     "iopub.status.busy": "2022-08-08T18:13:14.489719Z",
     "iopub.status.idle": "2022-08-08T18:13:25.520382Z",
     "shell.execute_reply": "2022-08-08T18:13:25.518635Z",
     "shell.execute_reply.started": "2022-08-08T18:13:14.493022Z"
    }
   },
   "outputs": [],
   "source": [
    "### Training the Lasso Regression model on the Training set\n",
    "\n",
    "lasso = Lasso()\n",
    "parameters = {'alpha': [1e-15, 1e-10, 1e-8, 1e-3, 1e-2, 1, 5, 10, 20, 30, 35, 40, 45, 50, 55, 100]}\n",
    "lasso_regressor = GridSearchCV(lasso, parameters, scoring = 'neg_mean_squared_error', cv = 5)\n",
    "lasso_regressor.fit(X_train, Y_train)"
   ]
  },
  {
   "cell_type": "code",
   "execution_count": null,
   "metadata": {
    "execution": {
     "iopub.execute_input": "2022-08-08T18:13:25.533523Z",
     "iopub.status.busy": "2022-08-08T18:13:25.529263Z",
     "iopub.status.idle": "2022-08-08T18:13:25.550634Z",
     "shell.execute_reply": "2022-08-08T18:13:25.548586Z",
     "shell.execute_reply.started": "2022-08-08T18:13:25.533438Z"
    }
   },
   "outputs": [],
   "source": [
    "# Finding out negative mean squared error in Lasso Regression\n",
    "\n",
    "print(lasso_regressor.best_params_)\n",
    "print(lasso_regressor.best_score_)"
   ]
  },
  {
   "cell_type": "code",
   "execution_count": null,
   "metadata": {
    "execution": {
     "iopub.execute_input": "2022-08-08T18:13:25.564226Z",
     "iopub.status.busy": "2022-08-08T18:13:25.555597Z",
     "iopub.status.idle": "2022-08-08T18:13:25.577297Z",
     "shell.execute_reply": "2022-08-08T18:13:25.575064Z",
     "shell.execute_reply.started": "2022-08-08T18:13:25.564123Z"
    }
   },
   "outputs": [],
   "source": [
    "### Predicting the Test set results\n",
    "\n",
    "Y_pred = lasso_regressor.predict(X_test)"
   ]
  },
  {
   "cell_type": "code",
   "execution_count": null,
   "metadata": {
    "execution": {
     "iopub.execute_input": "2022-08-08T18:13:25.581994Z",
     "iopub.status.busy": "2022-08-08T18:13:25.580729Z",
     "iopub.status.idle": "2022-08-08T18:13:25.60956Z",
     "shell.execute_reply": "2022-08-08T18:13:25.607782Z",
     "shell.execute_reply.started": "2022-08-08T18:13:25.581923Z"
    }
   },
   "outputs": [],
   "source": [
    "### Calculating RMSE and Adjusted R-squared for the model\n",
    "\n",
    "mse = round(mean_squared_error(Y_test, Y_pred), 3)\n",
    "rmse = round(sqrt(mse), 3)\n",
    "\n",
    "r2_value = round(r2_score(Y_test, Y_pred), 3)\n",
    "\n",
    "model_rmse['Lasso Regression'] = rmse\n",
    "model_r2['Lasso Regression'] = r2_value\n",
    "\n",
    "print('Root Mean Squared Error of the model is : {}'.format(rmse))\n",
    "print('R-squared value of the model is : {}'.format(r2_value))"
   ]
  },
  {
   "cell_type": "markdown",
   "metadata": {},
   "source": [
    "# 5.2.3 Applying Ridge Regression"
   ]
  },
  {
   "cell_type": "code",
   "execution_count": null,
   "metadata": {
    "execution": {
     "iopub.execute_input": "2022-08-08T18:13:25.613896Z",
     "iopub.status.busy": "2022-08-08T18:13:25.612669Z",
     "iopub.status.idle": "2022-08-08T18:13:26.813345Z",
     "shell.execute_reply": "2022-08-08T18:13:26.811563Z",
     "shell.execute_reply.started": "2022-08-08T18:13:25.613828Z"
    }
   },
   "outputs": [],
   "source": [
    "### Training the Ridge Regression model on the Training set\n",
    "\n",
    "ridge = Ridge()\n",
    "parameters = {'alpha': [1e-15, 1e-10, 1e-8, 1e-3, 1e-2, 1, 5, 10, 20, 30, 35, 40, 45, 50, 55, 100]}\n",
    "ridge_regressor = GridSearchCV(ridge, parameters, scoring = 'neg_mean_squared_error', cv = 5)\n",
    "ridge_regressor.fit(X_train, Y_train)"
   ]
  },
  {
   "cell_type": "code",
   "execution_count": null,
   "metadata": {
    "execution": {
     "iopub.execute_input": "2022-08-08T18:13:26.82683Z",
     "iopub.status.busy": "2022-08-08T18:13:26.821282Z",
     "iopub.status.idle": "2022-08-08T18:13:26.845769Z",
     "shell.execute_reply": "2022-08-08T18:13:26.843646Z",
     "shell.execute_reply.started": "2022-08-08T18:13:26.826724Z"
    }
   },
   "outputs": [],
   "source": [
    "# Finding out negative mean squared error in Lasso Regression\n",
    "\n",
    "print(ridge_regressor.best_params_)\n",
    "print(ridge_regressor.best_score_)"
   ]
  },
  {
   "cell_type": "code",
   "execution_count": null,
   "metadata": {
    "execution": {
     "iopub.execute_input": "2022-08-08T18:13:26.85574Z",
     "iopub.status.busy": "2022-08-08T18:13:26.854198Z",
     "iopub.status.idle": "2022-08-08T18:13:26.873944Z",
     "shell.execute_reply": "2022-08-08T18:13:26.871159Z",
     "shell.execute_reply.started": "2022-08-08T18:13:26.855653Z"
    }
   },
   "outputs": [],
   "source": [
    "### Predicting the Test set results\n",
    "\n",
    "Y_pred = ridge_regressor.predict(X_test)"
   ]
  },
  {
   "cell_type": "code",
   "execution_count": null,
   "metadata": {
    "execution": {
     "iopub.execute_input": "2022-08-08T18:13:26.879248Z",
     "iopub.status.busy": "2022-08-08T18:13:26.877982Z",
     "iopub.status.idle": "2022-08-08T18:13:26.892803Z",
     "shell.execute_reply": "2022-08-08T18:13:26.89101Z",
     "shell.execute_reply.started": "2022-08-08T18:13:26.879185Z"
    }
   },
   "outputs": [],
   "source": [
    "### Calculating RMSE and Adjusted R-squared for the model\n",
    "\n",
    "mse = round(mean_squared_error(Y_test, Y_pred), 3)\n",
    "rmse = round(sqrt(mse), 3)\n",
    "\n",
    "r2_value = round(r2_score(Y_test, Y_pred), 3)\n",
    "\n",
    "model_rmse['Ridge Regression'] = rmse\n",
    "model_r2['Ridge Regression'] = r2_value\n",
    "\n",
    "print('Root Mean Squared Error of the model is : {}'.format(rmse))\n",
    "print('R-squared value of the model is : {}'.format(r2_value))"
   ]
  },
  {
   "cell_type": "markdown",
   "metadata": {},
   "source": [
    "# 5.2.4 Applying Support Vector Regression"
   ]
  },
  {
   "cell_type": "code",
   "execution_count": null,
   "metadata": {
    "execution": {
     "iopub.execute_input": "2022-08-08T18:13:26.898139Z",
     "iopub.status.busy": "2022-08-08T18:13:26.896513Z",
     "iopub.status.idle": "2022-08-08T18:13:42.683492Z",
     "shell.execute_reply": "2022-08-08T18:13:42.681819Z",
     "shell.execute_reply.started": "2022-08-08T18:13:26.898058Z"
    }
   },
   "outputs": [],
   "source": [
    "### Training the Support Vector Regression model on the Training set\n",
    "\n",
    "support_vector_regressor = SVR(kernel = 'rbf')\n",
    "support_vector_regressor.fit(X_train, Y_train)"
   ]
  },
  {
   "cell_type": "code",
   "execution_count": null,
   "metadata": {
    "execution": {
     "iopub.execute_input": "2022-08-08T18:13:42.685629Z",
     "iopub.status.busy": "2022-08-08T18:13:42.685258Z",
     "iopub.status.idle": "2022-08-08T18:13:46.476159Z",
     "shell.execute_reply": "2022-08-08T18:13:46.47467Z",
     "shell.execute_reply.started": "2022-08-08T18:13:42.685596Z"
    }
   },
   "outputs": [],
   "source": [
    "### Predicting the Test set results\n",
    "\n",
    "Y_pred = support_vector_regressor.predict(X_test)"
   ]
  },
  {
   "cell_type": "code",
   "execution_count": null,
   "metadata": {
    "execution": {
     "iopub.execute_input": "2022-08-08T18:13:46.478124Z",
     "iopub.status.busy": "2022-08-08T18:13:46.477719Z",
     "iopub.status.idle": "2022-08-08T18:13:46.489722Z",
     "shell.execute_reply": "2022-08-08T18:13:46.488393Z",
     "shell.execute_reply.started": "2022-08-08T18:13:46.478089Z"
    }
   },
   "outputs": [],
   "source": [
    "### Calculating RMSE and Adjusted R-squared for the model\n",
    "\n",
    "mse = round(mean_squared_error(Y_test, Y_pred), 3)\n",
    "rmse = round(sqrt(mse), 3)\n",
    "\n",
    "r2_value = round(r2_score(Y_test, Y_pred), 3)\n",
    "\n",
    "model_rmse['Support Vector Regression'] = rmse\n",
    "model_r2['Support Vector Regression'] = r2_value\n",
    "\n",
    "print('Root Mean Squared Error of the model is : {}'.format(rmse))\n",
    "print('R-squared value of the model is : {}'.format(r2_value))"
   ]
  },
  {
   "cell_type": "markdown",
   "metadata": {},
   "source": [
    "# 5.2.5 Applying Decision Tree Regression"
   ]
  },
  {
   "cell_type": "code",
   "execution_count": null,
   "metadata": {
    "execution": {
     "iopub.execute_input": "2022-08-08T18:13:46.492531Z",
     "iopub.status.busy": "2022-08-08T18:13:46.491747Z",
     "iopub.status.idle": "2022-08-08T18:13:46.581871Z",
     "shell.execute_reply": "2022-08-08T18:13:46.580593Z",
     "shell.execute_reply.started": "2022-08-08T18:13:46.492475Z"
    }
   },
   "outputs": [],
   "source": [
    "### Training the Decision Tree Regression model on the Training set\n",
    "\n",
    "decision_tree_regressor = DecisionTreeRegressor()\n",
    "decision_tree_regressor.fit(X_train, Y_train)"
   ]
  },
  {
   "cell_type": "code",
   "execution_count": null,
   "metadata": {
    "execution": {
     "iopub.execute_input": "2022-08-08T18:13:46.584281Z",
     "iopub.status.busy": "2022-08-08T18:13:46.583488Z",
     "iopub.status.idle": "2022-08-08T18:13:46.592185Z",
     "shell.execute_reply": "2022-08-08T18:13:46.590981Z",
     "shell.execute_reply.started": "2022-08-08T18:13:46.584233Z"
    }
   },
   "outputs": [],
   "source": [
    "### Predicting the Test set results\n",
    "\n",
    "Y_pred = decision_tree_regressor.predict(X_test)"
   ]
  },
  {
   "cell_type": "code",
   "execution_count": null,
   "metadata": {
    "execution": {
     "iopub.execute_input": "2022-08-08T18:13:46.59417Z",
     "iopub.status.busy": "2022-08-08T18:13:46.593591Z",
     "iopub.status.idle": "2022-08-08T18:13:46.606112Z",
     "shell.execute_reply": "2022-08-08T18:13:46.604831Z",
     "shell.execute_reply.started": "2022-08-08T18:13:46.594134Z"
    }
   },
   "outputs": [],
   "source": [
    "### Calculating RMSE and Adjusted R-squared for the model\n",
    "\n",
    "mse = round(mean_squared_error(Y_test, Y_pred), 3)\n",
    "rmse = round(sqrt(mse), 3)\n",
    "\n",
    "r2_value = round(r2_score(Y_test, Y_pred), 3)\n",
    "\n",
    "model_rmse['Decision Tree Regression'] = rmse\n",
    "model_r2['Decision Tree Regression'] = r2_value\n",
    "\n",
    "print('Root Mean Squared Error of the model is : {}'.format(rmse))\n",
    "print('R-squared value of the model is : {}'.format(r2_value))"
   ]
  },
  {
   "cell_type": "markdown",
   "metadata": {},
   "source": [
    "# 5.2.6 Applying Random Forest Regression (10 trees)"
   ]
  },
  {
   "cell_type": "code",
   "execution_count": null,
   "metadata": {
    "execution": {
     "iopub.execute_input": "2022-08-08T18:13:46.608888Z",
     "iopub.status.busy": "2022-08-08T18:13:46.607999Z",
     "iopub.status.idle": "2022-08-08T18:13:47.14603Z",
     "shell.execute_reply": "2022-08-08T18:13:47.144728Z",
     "shell.execute_reply.started": "2022-08-08T18:13:46.60884Z"
    }
   },
   "outputs": [],
   "source": [
    "### Training the Random Forest Regression model on the Training set\n",
    "\n",
    "random_forest_regressor = RandomForestRegressor(n_estimators = 10, random_state = 27)\n",
    "random_forest_regressor.fit(X_train, Y_train)"
   ]
  },
  {
   "cell_type": "code",
   "execution_count": null,
   "metadata": {
    "execution": {
     "iopub.execute_input": "2022-08-08T18:13:47.149168Z",
     "iopub.status.busy": "2022-08-08T18:13:47.147846Z",
     "iopub.status.idle": "2022-08-08T18:13:47.169282Z",
     "shell.execute_reply": "2022-08-08T18:13:47.168436Z",
     "shell.execute_reply.started": "2022-08-08T18:13:47.149118Z"
    }
   },
   "outputs": [],
   "source": [
    "### Predicting the Test set results\n",
    "\n",
    "Y_pred = random_forest_regressor.predict(X_test)"
   ]
  },
  {
   "cell_type": "code",
   "execution_count": null,
   "metadata": {
    "execution": {
     "iopub.execute_input": "2022-08-08T18:13:47.171874Z",
     "iopub.status.busy": "2022-08-08T18:13:47.170553Z",
     "iopub.status.idle": "2022-08-08T18:13:47.182362Z",
     "shell.execute_reply": "2022-08-08T18:13:47.180867Z",
     "shell.execute_reply.started": "2022-08-08T18:13:47.171823Z"
    }
   },
   "outputs": [],
   "source": [
    "### Calculating RMSE and Adjusted R-squared for the model\n",
    "\n",
    "mse = round(mean_squared_error(Y_test, Y_pred), 3)\n",
    "rmse = round(sqrt(mse), 3)\n",
    "\n",
    "r2_value = round(r2_score(Y_test, Y_pred), 3)\n",
    "\n",
    "model_rmse['Random Forest Regression (10 trees)'] = rmse\n",
    "model_r2['Random Forest Regression (10 trees)'] = r2_value\n",
    "\n",
    "print('Root Mean Squared Error of the model is : {}'.format(rmse))\n",
    "print('R-squared value of the model is : {}'.format(r2_value))"
   ]
  },
  {
   "cell_type": "markdown",
   "metadata": {},
   "source": [
    "# 5.2.7 Applying Random Forest Regression (25 trees)"
   ]
  },
  {
   "cell_type": "code",
   "execution_count": null,
   "metadata": {
    "execution": {
     "iopub.execute_input": "2022-08-08T18:13:47.185497Z",
     "iopub.status.busy": "2022-08-08T18:13:47.184579Z",
     "iopub.status.idle": "2022-08-08T18:13:48.507328Z",
     "shell.execute_reply": "2022-08-08T18:13:48.505843Z",
     "shell.execute_reply.started": "2022-08-08T18:13:47.185438Z"
    }
   },
   "outputs": [],
   "source": [
    "### Training the Random Forest Regression model on the Training set\n",
    "\n",
    "random_forest_regressor = RandomForestRegressor(n_estimators = 25, random_state = 27)\n",
    "random_forest_regressor.fit(X_train, Y_train)"
   ]
  },
  {
   "cell_type": "code",
   "execution_count": null,
   "metadata": {
    "execution": {
     "iopub.execute_input": "2022-08-08T18:13:48.509456Z",
     "iopub.status.busy": "2022-08-08T18:13:48.509081Z",
     "iopub.status.idle": "2022-08-08T18:13:48.555421Z",
     "shell.execute_reply": "2022-08-08T18:13:48.553792Z",
     "shell.execute_reply.started": "2022-08-08T18:13:48.509423Z"
    }
   },
   "outputs": [],
   "source": [
    "### Predicting the Test set results\n",
    "\n",
    "Y_pred = random_forest_regressor.predict(X_test)"
   ]
  },
  {
   "cell_type": "code",
   "execution_count": null,
   "metadata": {
    "execution": {
     "iopub.execute_input": "2022-08-08T18:13:48.558252Z",
     "iopub.status.busy": "2022-08-08T18:13:48.557833Z",
     "iopub.status.idle": "2022-08-08T18:13:48.570151Z",
     "shell.execute_reply": "2022-08-08T18:13:48.568696Z",
     "shell.execute_reply.started": "2022-08-08T18:13:48.558217Z"
    }
   },
   "outputs": [],
   "source": [
    "### Calculating RMSE and Adjusted R-squared for the model\n",
    "\n",
    "mse = round(mean_squared_error(Y_test, Y_pred), 3)\n",
    "rmse = round(sqrt(mse), 3)\n",
    "\n",
    "r2_value = round(r2_score(Y_test, Y_pred), 3)\n",
    "\n",
    "model_rmse['Random Forest Regression (25 trees)'] = rmse\n",
    "model_r2['Random Forest Regression (25 trees)'] = r2_value\n",
    "\n",
    "print('Root Mean Squared Error of the model is : {}'.format(rmse))\n",
    "print('R-squared value of the model is : {}'.format(r2_value))"
   ]
  },
  {
   "cell_type": "markdown",
   "metadata": {},
   "source": [
    "# 5.2.8 Applying Random Forest Regression (50 trees)"
   ]
  },
  {
   "cell_type": "code",
   "execution_count": null,
   "metadata": {
    "execution": {
     "iopub.execute_input": "2022-08-08T18:13:48.572246Z",
     "iopub.status.busy": "2022-08-08T18:13:48.571656Z",
     "iopub.status.idle": "2022-08-08T18:13:51.236317Z",
     "shell.execute_reply": "2022-08-08T18:13:51.235024Z",
     "shell.execute_reply.started": "2022-08-08T18:13:48.5722Z"
    }
   },
   "outputs": [],
   "source": [
    "### Training the Random Forest Regression model on the Training set\n",
    "\n",
    "random_forest_regressor = RandomForestRegressor(n_estimators = 50, random_state = 27)\n",
    "random_forest_regressor.fit(X_train, Y_train)"
   ]
  },
  {
   "cell_type": "code",
   "execution_count": null,
   "metadata": {
    "execution": {
     "iopub.execute_input": "2022-08-08T18:13:51.238405Z",
     "iopub.status.busy": "2022-08-08T18:13:51.23804Z",
     "iopub.status.idle": "2022-08-08T18:13:51.32057Z",
     "shell.execute_reply": "2022-08-08T18:13:51.319267Z",
     "shell.execute_reply.started": "2022-08-08T18:13:51.238373Z"
    }
   },
   "outputs": [],
   "source": [
    "### Predicting the Test set results\n",
    "\n",
    "Y_pred = random_forest_regressor.predict(X_test)"
   ]
  },
  {
   "cell_type": "code",
   "execution_count": null,
   "metadata": {
    "execution": {
     "iopub.execute_input": "2022-08-08T18:13:51.323634Z",
     "iopub.status.busy": "2022-08-08T18:13:51.323042Z",
     "iopub.status.idle": "2022-08-08T18:13:51.334564Z",
     "shell.execute_reply": "2022-08-08T18:13:51.333479Z",
     "shell.execute_reply.started": "2022-08-08T18:13:51.323581Z"
    }
   },
   "outputs": [],
   "source": [
    "### Calculating RMSE and Adjusted R-squared for the model\n",
    "\n",
    "mse = round(mean_squared_error(Y_test, Y_pred), 3)\n",
    "rmse = round(sqrt(mse), 3)\n",
    "\n",
    "r2_value = round(r2_score(Y_test, Y_pred), 3)\n",
    "\n",
    "model_rmse['Random Forest Regression (50 trees)'] = rmse\n",
    "model_r2['Random Forest Regression (50 trees)'] = r2_value\n",
    "\n",
    "print('Root Mean Squared Error of the model is : {}'.format(rmse))\n",
    "print('R-squared value of the model is : {}'.format(r2_value))"
   ]
  },
  {
   "cell_type": "markdown",
   "metadata": {},
   "source": [
    "# 5.2.9 Applying Random Forest Regression (100 trees)"
   ]
  },
  {
   "cell_type": "code",
   "execution_count": null,
   "metadata": {
    "execution": {
     "iopub.execute_input": "2022-08-08T18:13:51.33743Z",
     "iopub.status.busy": "2022-08-08T18:13:51.336278Z",
     "iopub.status.idle": "2022-08-08T18:13:56.610702Z",
     "shell.execute_reply": "2022-08-08T18:13:56.609447Z",
     "shell.execute_reply.started": "2022-08-08T18:13:51.337391Z"
    }
   },
   "outputs": [],
   "source": [
    "### Training the Random Forest Regression model on the Training set\n",
    "\n",
    "random_forest_regressor = RandomForestRegressor(n_estimators = 100, random_state = 27)\n",
    "random_forest_regressor.fit(X_train, Y_train)"
   ]
  },
  {
   "cell_type": "code",
   "execution_count": null,
   "metadata": {
    "execution": {
     "iopub.execute_input": "2022-08-08T18:13:56.613736Z",
     "iopub.status.busy": "2022-08-08T18:13:56.612451Z",
     "iopub.status.idle": "2022-08-08T18:13:56.775638Z",
     "shell.execute_reply": "2022-08-08T18:13:56.774087Z",
     "shell.execute_reply.started": "2022-08-08T18:13:56.613683Z"
    }
   },
   "outputs": [],
   "source": [
    "### Predicting the Test set results\n",
    "\n",
    "Y_pred = random_forest_regressor.predict(X_test)"
   ]
  },
  {
   "cell_type": "code",
   "execution_count": null,
   "metadata": {
    "execution": {
     "iopub.execute_input": "2022-08-08T18:13:56.778228Z",
     "iopub.status.busy": "2022-08-08T18:13:56.777344Z",
     "iopub.status.idle": "2022-08-08T18:13:56.790167Z",
     "shell.execute_reply": "2022-08-08T18:13:56.788439Z",
     "shell.execute_reply.started": "2022-08-08T18:13:56.778175Z"
    }
   },
   "outputs": [],
   "source": [
    "### Calculating RMSE and Adjusted R-squared for the model\n",
    "\n",
    "mse = round(mean_squared_error(Y_test, Y_pred), 3)\n",
    "rmse = round(sqrt(mse), 3)\n",
    "\n",
    "r2_value = round(r2_score(Y_test, Y_pred), 3)\n",
    "\n",
    "model_rmse['Random Forest Regression (100 trees)'] = rmse\n",
    "model_r2['Random Forest Regression (100 trees)'] = r2_value\n",
    "\n",
    "print('Root Mean Squared Error of the model is : {}'.format(rmse))\n",
    "print('R-squared value of the model is : {}'.format(r2_value))"
   ]
  },
  {
   "cell_type": "markdown",
   "metadata": {},
   "source": [
    "# 5.2.10 Applying Random Forest Regression (1000 trees)"
   ]
  },
  {
   "cell_type": "code",
   "execution_count": null,
   "metadata": {
    "execution": {
     "iopub.execute_input": "2022-08-08T18:13:56.792767Z",
     "iopub.status.busy": "2022-08-08T18:13:56.792241Z",
     "iopub.status.idle": "2022-08-08T18:14:49.395761Z",
     "shell.execute_reply": "2022-08-08T18:14:49.394406Z",
     "shell.execute_reply.started": "2022-08-08T18:13:56.792717Z"
    }
   },
   "outputs": [],
   "source": [
    "### Training the Random Forest Regression model on the Training set\n",
    "\n",
    "random_forest_regressor = RandomForestRegressor(n_estimators = 1000, random_state = 27)\n",
    "random_forest_regressor.fit(X_train, Y_train)"
   ]
  },
  {
   "cell_type": "code",
   "execution_count": null,
   "metadata": {
    "execution": {
     "iopub.execute_input": "2022-08-08T18:14:49.397973Z",
     "iopub.status.busy": "2022-08-08T18:14:49.397528Z",
     "iopub.status.idle": "2022-08-08T18:14:51.303716Z",
     "shell.execute_reply": "2022-08-08T18:14:51.302138Z",
     "shell.execute_reply.started": "2022-08-08T18:14:49.397932Z"
    }
   },
   "outputs": [],
   "source": [
    "### Predicting the Test set results\n",
    "\n",
    "Y_pred = random_forest_regressor.predict(X_test)"
   ]
  },
  {
   "cell_type": "code",
   "execution_count": null,
   "metadata": {
    "execution": {
     "iopub.execute_input": "2022-08-08T18:14:51.306067Z",
     "iopub.status.busy": "2022-08-08T18:14:51.305531Z",
     "iopub.status.idle": "2022-08-08T18:14:51.318542Z",
     "shell.execute_reply": "2022-08-08T18:14:51.317272Z",
     "shell.execute_reply.started": "2022-08-08T18:14:51.306023Z"
    }
   },
   "outputs": [],
   "source": [
    "### Calculating RMSE and Adjusted R-squared for the model\n",
    "\n",
    "mse = round(mean_squared_error(Y_test, Y_pred), 3)\n",
    "rmse = round(sqrt(mse), 3)\n",
    "\n",
    "r2_value = round(r2_score(Y_test, Y_pred), 3)\n",
    "\n",
    "model_rmse['Random Forest Regression (1000 trees)'] = rmse\n",
    "model_r2['Random Forest Regression (1000 trees)'] = r2_value\n",
    "\n",
    "print('Root Mean Squared Error of the model is : {}'.format(rmse))\n",
    "print('R-squared value of the model is : {}'.format(r2_value))"
   ]
  },
  {
   "cell_type": "markdown",
   "metadata": {},
   "source": [
    "# 5.2.11 Applying Stacking Regression"
   ]
  },
  {
   "cell_type": "code",
   "execution_count": null,
   "metadata": {
    "execution": {
     "iopub.execute_input": "2022-08-08T18:14:51.321007Z",
     "iopub.status.busy": "2022-08-08T18:14:51.32011Z",
     "iopub.status.idle": "2022-08-08T18:14:51.327557Z",
     "shell.execute_reply": "2022-08-08T18:14:51.326641Z",
     "shell.execute_reply.started": "2022-08-08T18:14:51.320968Z"
    }
   },
   "outputs": [],
   "source": [
    "### Preparing the Stacking Regressor\n",
    "\n",
    "### Define the base models\n",
    "\n",
    "base_models = list()\n",
    "\n",
    "base_models.append(('decision_tree', decision_tree_regressor))\n",
    "base_models.append(('support_vector', support_vector_regressor))\n",
    "\n",
    "### Define the meta models\n",
    "\n",
    "meta_model = random_forest_regressor"
   ]
  },
  {
   "cell_type": "code",
   "execution_count": null,
   "metadata": {
    "execution": {
     "iopub.execute_input": "2022-08-08T18:14:51.329979Z",
     "iopub.status.busy": "2022-08-08T18:14:51.329225Z",
     "iopub.status.idle": "2022-08-08T18:16:38.480764Z",
     "shell.execute_reply": "2022-08-08T18:16:38.479371Z",
     "shell.execute_reply.started": "2022-08-08T18:14:51.329935Z"
    }
   },
   "outputs": [],
   "source": [
    "### Training the Stacking Regression model on the Training set\n",
    "\n",
    "stacking_regressor = StackingRegressor(estimators = base_models, final_estimator = meta_model)\n",
    "stacking_regressor.fit(X_train, Y_train)"
   ]
  },
  {
   "cell_type": "code",
   "execution_count": null,
   "metadata": {
    "execution": {
     "iopub.execute_input": "2022-08-08T18:16:38.483113Z",
     "iopub.status.busy": "2022-08-08T18:16:38.482668Z",
     "iopub.status.idle": "2022-08-08T18:16:43.764443Z",
     "shell.execute_reply": "2022-08-08T18:16:43.763106Z",
     "shell.execute_reply.started": "2022-08-08T18:16:38.483076Z"
    }
   },
   "outputs": [],
   "source": [
    "### Predicting the Test set results\n",
    "\n",
    "Y_pred = stacking_regressor.predict(X_test)"
   ]
  },
  {
   "cell_type": "code",
   "execution_count": null,
   "metadata": {
    "execution": {
     "iopub.execute_input": "2022-08-08T18:16:43.766399Z",
     "iopub.status.busy": "2022-08-08T18:16:43.766018Z",
     "iopub.status.idle": "2022-08-08T18:16:43.775736Z",
     "shell.execute_reply": "2022-08-08T18:16:43.774961Z",
     "shell.execute_reply.started": "2022-08-08T18:16:43.766353Z"
    }
   },
   "outputs": [],
   "source": [
    "### Calculating RMSE and Adjusted R-squared for the model\n",
    "\n",
    "mse = round(mean_squared_error(Y_test, Y_pred), 3)\n",
    "rmse = round(sqrt(mse), 3)\n",
    "\n",
    "r2_value = round(r2_score(Y_test, Y_pred), 3)\n",
    "\n",
    "model_rmse['Stacking Regression'] = rmse\n",
    "model_r2['Stacking Regression'] = r2_value\n",
    "\n",
    "print('Root Mean Squared Error of the model is : {}'.format(rmse))\n",
    "print('R-squared value of the model is : {}'.format(r2_value))"
   ]
  },
  {
   "cell_type": "markdown",
   "metadata": {},
   "source": [
    "# 5.2.12 Applying XGBoost Regression"
   ]
  },
  {
   "cell_type": "code",
   "execution_count": null,
   "metadata": {
    "execution": {
     "iopub.execute_input": "2022-08-08T18:16:43.777707Z",
     "iopub.status.busy": "2022-08-08T18:16:43.777005Z",
     "iopub.status.idle": "2022-08-08T18:16:45.308627Z",
     "shell.execute_reply": "2022-08-08T18:16:45.30761Z",
     "shell.execute_reply.started": "2022-08-08T18:16:43.777671Z"
    }
   },
   "outputs": [],
   "source": [
    "### Training the XGBoost Regression model on the Training set\n",
    "\n",
    "xgboost_regressor = xg.XGBRegressor(objective ='reg:linear', n_estimators = 100, seed = 27)\n",
    "xgboost_regressor.fit(X_train, Y_train)"
   ]
  },
  {
   "cell_type": "code",
   "execution_count": null,
   "metadata": {
    "execution": {
     "iopub.execute_input": "2022-08-08T18:16:45.313666Z",
     "iopub.status.busy": "2022-08-08T18:16:45.312708Z",
     "iopub.status.idle": "2022-08-08T18:16:45.328275Z",
     "shell.execute_reply": "2022-08-08T18:16:45.326709Z",
     "shell.execute_reply.started": "2022-08-08T18:16:45.31362Z"
    }
   },
   "outputs": [],
   "source": [
    "### Predicting the Test set results\n",
    "\n",
    "Y_pred = xgboost_regressor.predict(X_test)"
   ]
  },
  {
   "cell_type": "code",
   "execution_count": null,
   "metadata": {
    "execution": {
     "iopub.execute_input": "2022-08-08T18:16:45.336434Z",
     "iopub.status.busy": "2022-08-08T18:16:45.333529Z",
     "iopub.status.idle": "2022-08-08T18:16:45.347447Z",
     "shell.execute_reply": "2022-08-08T18:16:45.346329Z",
     "shell.execute_reply.started": "2022-08-08T18:16:45.336379Z"
    }
   },
   "outputs": [],
   "source": [
    "### Calculating RMSE and Adjusted R-squared for the model\n",
    "\n",
    "mse = round(mean_squared_error(Y_test, Y_pred), 3)\n",
    "rmse = round(sqrt(mse), 3)\n",
    "\n",
    "r2_value = round(r2_score(Y_test, Y_pred), 3)\n",
    "\n",
    "model_rmse['XGBoost Regression'] = rmse\n",
    "model_r2['XGBoost Regression'] = r2_value\n",
    "\n",
    "print('Root Mean Squared Error of the model is : {}'.format(rmse))\n",
    "print('R-squared value of the model is : {}'.format(r2_value))"
   ]
  },
  {
   "cell_type": "markdown",
   "metadata": {},
   "source": [
    "# 5.3 Model evaluation"
   ]
  },
  {
   "cell_type": "markdown",
   "metadata": {},
   "source": [
    "Model evaluation is the process of using different evaluation metrics to understand a machine learning model's performance, as well as its strengths and weaknesses."
   ]
  },
  {
   "cell_type": "markdown",
   "metadata": {},
   "source": [
    "# 5.3.1 RMSE, R-squared of the models"
   ]
  },
  {
   "cell_type": "markdown",
   "metadata": {},
   "source": [
    "Now we will tabulate all the models along with their rmse, r-squared. This data is stored in the model_performance dictionary. We will use the tabulate package for tabulating the results."
   ]
  },
  {
   "cell_type": "code",
   "execution_count": null,
   "metadata": {
    "execution": {
     "iopub.execute_input": "2022-08-08T18:16:45.350491Z",
     "iopub.status.busy": "2022-08-08T18:16:45.348995Z",
     "iopub.status.idle": "2022-08-08T18:16:45.362271Z",
     "shell.execute_reply": "2022-08-08T18:16:45.360925Z",
     "shell.execute_reply.started": "2022-08-08T18:16:45.350448Z"
    }
   },
   "outputs": [],
   "source": [
    "### Looking at the model rmse dictionary\n",
    "\n",
    "model_rmse"
   ]
  },
  {
   "cell_type": "code",
   "execution_count": null,
   "metadata": {
    "execution": {
     "iopub.execute_input": "2022-08-08T18:16:45.365827Z",
     "iopub.status.busy": "2022-08-08T18:16:45.364737Z",
     "iopub.status.idle": "2022-08-08T18:16:45.376423Z",
     "shell.execute_reply": "2022-08-08T18:16:45.375142Z",
     "shell.execute_reply.started": "2022-08-08T18:16:45.365771Z"
    }
   },
   "outputs": [],
   "source": [
    "### Looking at the model r-squared dictionary\n",
    "\n",
    "model_r2"
   ]
  },
  {
   "cell_type": "code",
   "execution_count": null,
   "metadata": {
    "execution": {
     "iopub.execute_input": "2022-08-08T18:16:45.379979Z",
     "iopub.status.busy": "2022-08-08T18:16:45.378475Z",
     "iopub.status.idle": "2022-08-08T18:16:45.391315Z",
     "shell.execute_reply": "2022-08-08T18:16:45.389864Z",
     "shell.execute_reply.started": "2022-08-08T18:16:45.379923Z"
    }
   },
   "outputs": [],
   "source": [
    "### Tabulating the results\n",
    "\n",
    "table = []\n",
    "table.append(['S.No.', 'Classification Model', 'Root Mean Squared Error', 'R-squared'])\n",
    "count = 1\n",
    "\n",
    "for model in model_rmse:\n",
    "    row = [count, model, model_rmse[model], model_r2[model]]\n",
    "    table.append(row)\n",
    "    count += 1\n",
    "    \n",
    "print(tabulate(table, headers = 'firstrow', tablefmt = 'fancy_grid'))"
   ]
  },
  {
   "cell_type": "markdown",
   "metadata": {},
   "source": [
    "From the above table, we can see that the model Random Forest Regression (1000 trees) has the least Root Mean Squared Error of 10.043 and the highest R-squared value of 0.661."
   ]
  },
  {
   "cell_type": "markdown",
   "metadata": {},
   "source": [
    "# 6. Conclusion"
   ]
  },
  {
   "cell_type": "markdown",
   "metadata": {},
   "source": [
    "Hence, for this problem, we will use Random Forest regressor to predict the Sales Price."
   ]
  }
 ],
 "metadata": {
  "kernelspec": {
   "display_name": "Python 3 (ipykernel)",
   "language": "python",
   "name": "python3"
  },
  "language_info": {
   "codemirror_mode": {
    "name": "ipython",
    "version": 3
   },
   "file_extension": ".py",
   "mimetype": "text/x-python",
   "name": "python",
   "nbconvert_exporter": "python",
   "pygments_lexer": "ipython3",
   "version": "3.10.6"
  }
 },
 "nbformat": 4,
 "nbformat_minor": 4
}
